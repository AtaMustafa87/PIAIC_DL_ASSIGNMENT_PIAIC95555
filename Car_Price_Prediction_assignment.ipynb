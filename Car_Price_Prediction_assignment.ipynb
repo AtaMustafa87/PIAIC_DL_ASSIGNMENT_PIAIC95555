{
  "nbformat": 4,
  "nbformat_minor": 0,
  "metadata": {
    "kernelspec": {
      "display_name": "Python 3",
      "language": "python",
      "name": "python3"
    },
    "language_info": {
      "codemirror_mode": {
        "name": "ipython",
        "version": 3
      },
      "file_extension": ".py",
      "mimetype": "text/x-python",
      "name": "python",
      "nbconvert_exporter": "python",
      "pygments_lexer": "ipython3",
      "version": "3.8.5"
    },
    "colab": {
      "name": "Car Price Prediction assignment.ipynb",
      "provenance": []
    }
  },
  "cells": [
    {
      "cell_type": "markdown",
      "metadata": {
        "id": "U1NMFYzKlvAj"
      },
      "source": [
        "# Car Price Prediction::"
      ]
    },
    {
      "cell_type": "markdown",
      "metadata": {
        "id": "BEdKeCXjlvAu"
      },
      "source": [
        "Download dataset from this link:\n",
        "\n",
        "https://www.kaggle.com/hellbuoy/car-price-prediction"
      ]
    },
    {
      "cell_type": "markdown",
      "metadata": {
        "id": "CF2oCumZlvAv"
      },
      "source": [
        "# Problem Statement::"
      ]
    },
    {
      "cell_type": "markdown",
      "metadata": {
        "id": "t0jKkiZilvAw"
      },
      "source": [
        "A Chinese automobile company Geely Auto aspires to enter the US market by setting up their manufacturing unit there and producing cars locally to give competition to their US and European counterparts.\n",
        "\n",
        "They have contracted an automobile consulting company to understand the factors on which the pricing of cars depends. Specifically, they want to understand the factors affecting the pricing of cars in the American market, since those may be very different from the Chinese market. The company wants to know:\n",
        "\n",
        "Which variables are significant in predicting the price of a car\n",
        "How well those variables describe the price of a car\n",
        "Based on various market surveys, the consulting firm has gathered a large data set of different types of cars across the America market.\n",
        "\n",
        "# task::\n",
        "We are required to model the price of cars with the available independent variables. It will be used by the management to understand how exactly the prices vary with the independent variables. They can accordingly manipulate the design of the cars, the business strategy etc. to meet certain price levels. Further, the model will be a good way for management to understand the pricing dynamics of a new market."
      ]
    },
    {
      "cell_type": "markdown",
      "metadata": {
        "id": "Gv7mFXfElvAx"
      },
      "source": [
        "# WORKFLOW ::"
      ]
    },
    {
      "cell_type": "markdown",
      "metadata": {
        "id": "v7Rnf6AtlvAy"
      },
      "source": [
        "1.Load Data\n",
        "\n",
        "2.Check Missing Values ( If Exist ; Fill each record with mean of its feature )\n",
        "\n",
        "3.Split into 50% Training(Samples,Labels) , 30% Test(Samples,Labels) and 20% Validation Data(Samples,Labels).\n",
        "\n",
        "4.Model : input Layer (No. of features ), 3 hidden layers including 10,8,6 unit & Output Layer with activation function relu/tanh (check by experiment).\n",
        "\n",
        "5.Compilation Step (Note : Its a Regression problem , select loss , metrics according to it)\n",
        "6.Train the Model with Epochs (100) and validate it\n",
        "\n",
        "7.If the model gets overfit tune your model by changing the units , No. of layers , activation function , epochs , add dropout layer or add Regularizer according to the need .\n",
        "\n",
        "8.Evaluation Step\n",
        "\n",
        "9.Prediction"
      ]
    },
    {
      "cell_type": "code",
      "metadata": {
        "colab": {
          "base_uri": "https://localhost:8080/"
        },
        "id": "5kIYsG_XlvAy",
        "outputId": "4d12308a-05c5-4f52-e4d6-07a2f00f2dd9"
      },
      "source": [
        "!wget https://drive.google.com/file/d/1Ipqr162tQA63nBNb0D8tV7NoN1Txvc0j/view?usp=sharing -P ."
      ],
      "execution_count": null,
      "outputs": [
        {
          "output_type": "stream",
          "text": [
            "--2021-04-01 22:44:24--  https://drive.google.com/file/d/1Ipqr162tQA63nBNb0D8tV7NoN1Txvc0j/view?usp=sharing\n",
            "Resolving drive.google.com (drive.google.com)... 172.217.2.110, 2607:f8b0:4004:80a::200e\n",
            "Connecting to drive.google.com (drive.google.com)|172.217.2.110|:443... connected.\n",
            "HTTP request sent, awaiting response... 200 OK\n",
            "Length: unspecified [text/html]\n",
            "Saving to: ‘./view?usp=sharing’\n",
            "\n",
            "\rview?usp=sharing        [<=>                 ]       0  --.-KB/s               \rview?usp=sharing        [ <=>                ]  62.57K  --.-KB/s    in 0.008s  \n",
            "\n",
            "2021-04-01 22:44:24 (7.58 MB/s) - ‘./view?usp=sharing’ saved [64073]\n",
            "\n"
          ],
          "name": "stdout"
        }
      ]
    },
    {
      "cell_type": "code",
      "metadata": {
        "id": "RLZl3EOolvAz"
      },
      "source": [
        ""
      ],
      "execution_count": null,
      "outputs": []
    },
    {
      "cell_type": "code",
      "metadata": {
        "colab": {
          "base_uri": "https://localhost:8080/"
        },
        "id": "RBIud_u6nDiE",
        "outputId": "a085c71b-1571-48a5-b36b-a7a5f0ca5ee5"
      },
      "source": [
        "from google.colab import drive\n",
        "drive.mount('/content/drive')"
      ],
      "execution_count": 2,
      "outputs": [
        {
          "output_type": "stream",
          "text": [
            "Mounted at /content/drive\n"
          ],
          "name": "stdout"
        }
      ]
    },
    {
      "cell_type": "code",
      "metadata": {
        "id": "VAGsKVa6lvA0"
      },
      "source": [
        "import pandas as pd\n",
        "import numpy as np\n",
        "from sklearn.model_selection import train_test_split\n",
        "from keras import models\n",
        "from keras import layers"
      ],
      "execution_count": 3,
      "outputs": []
    },
    {
      "cell_type": "code",
      "metadata": {
        "id": "r4drEXqBlvA0"
      },
      "source": [
        "df = pd.read_csv('/content/drive/MyDrive/CarPrice_Assignment.csv')"
      ],
      "execution_count": 4,
      "outputs": []
    },
    {
      "cell_type": "code",
      "metadata": {
        "colab": {
          "base_uri": "https://localhost:8080/",
          "height": 275
        },
        "id": "i4ZTY1wflvA1",
        "outputId": "9cde54e8-de41-4cf1-b2e0-56ca4bbcc286"
      },
      "source": [
        "df.head()"
      ],
      "execution_count": 5,
      "outputs": [
        {
          "output_type": "execute_result",
          "data": {
            "text/html": [
              "<div>\n",
              "<style scoped>\n",
              "    .dataframe tbody tr th:only-of-type {\n",
              "        vertical-align: middle;\n",
              "    }\n",
              "\n",
              "    .dataframe tbody tr th {\n",
              "        vertical-align: top;\n",
              "    }\n",
              "\n",
              "    .dataframe thead th {\n",
              "        text-align: right;\n",
              "    }\n",
              "</style>\n",
              "<table border=\"1\" class=\"dataframe\">\n",
              "  <thead>\n",
              "    <tr style=\"text-align: right;\">\n",
              "      <th></th>\n",
              "      <th>car_ID</th>\n",
              "      <th>symboling</th>\n",
              "      <th>CarName</th>\n",
              "      <th>fueltype</th>\n",
              "      <th>aspiration</th>\n",
              "      <th>doornumber</th>\n",
              "      <th>carbody</th>\n",
              "      <th>drivewheel</th>\n",
              "      <th>enginelocation</th>\n",
              "      <th>wheelbase</th>\n",
              "      <th>carlength</th>\n",
              "      <th>carwidth</th>\n",
              "      <th>carheight</th>\n",
              "      <th>curbweight</th>\n",
              "      <th>enginetype</th>\n",
              "      <th>cylindernumber</th>\n",
              "      <th>enginesize</th>\n",
              "      <th>fuelsystem</th>\n",
              "      <th>boreratio</th>\n",
              "      <th>stroke</th>\n",
              "      <th>compressionratio</th>\n",
              "      <th>horsepower</th>\n",
              "      <th>peakrpm</th>\n",
              "      <th>citympg</th>\n",
              "      <th>highwaympg</th>\n",
              "      <th>price</th>\n",
              "    </tr>\n",
              "  </thead>\n",
              "  <tbody>\n",
              "    <tr>\n",
              "      <th>0</th>\n",
              "      <td>1</td>\n",
              "      <td>3</td>\n",
              "      <td>alfa-romero giulia</td>\n",
              "      <td>gas</td>\n",
              "      <td>std</td>\n",
              "      <td>two</td>\n",
              "      <td>convertible</td>\n",
              "      <td>rwd</td>\n",
              "      <td>front</td>\n",
              "      <td>88.6</td>\n",
              "      <td>168.8</td>\n",
              "      <td>64.1</td>\n",
              "      <td>48.8</td>\n",
              "      <td>2548</td>\n",
              "      <td>dohc</td>\n",
              "      <td>four</td>\n",
              "      <td>130</td>\n",
              "      <td>mpfi</td>\n",
              "      <td>3.47</td>\n",
              "      <td>2.68</td>\n",
              "      <td>9.0</td>\n",
              "      <td>111</td>\n",
              "      <td>5000</td>\n",
              "      <td>21</td>\n",
              "      <td>27</td>\n",
              "      <td>13495.0</td>\n",
              "    </tr>\n",
              "    <tr>\n",
              "      <th>1</th>\n",
              "      <td>2</td>\n",
              "      <td>3</td>\n",
              "      <td>alfa-romero stelvio</td>\n",
              "      <td>gas</td>\n",
              "      <td>std</td>\n",
              "      <td>two</td>\n",
              "      <td>convertible</td>\n",
              "      <td>rwd</td>\n",
              "      <td>front</td>\n",
              "      <td>88.6</td>\n",
              "      <td>168.8</td>\n",
              "      <td>64.1</td>\n",
              "      <td>48.8</td>\n",
              "      <td>2548</td>\n",
              "      <td>dohc</td>\n",
              "      <td>four</td>\n",
              "      <td>130</td>\n",
              "      <td>mpfi</td>\n",
              "      <td>3.47</td>\n",
              "      <td>2.68</td>\n",
              "      <td>9.0</td>\n",
              "      <td>111</td>\n",
              "      <td>5000</td>\n",
              "      <td>21</td>\n",
              "      <td>27</td>\n",
              "      <td>16500.0</td>\n",
              "    </tr>\n",
              "    <tr>\n",
              "      <th>2</th>\n",
              "      <td>3</td>\n",
              "      <td>1</td>\n",
              "      <td>alfa-romero Quadrifoglio</td>\n",
              "      <td>gas</td>\n",
              "      <td>std</td>\n",
              "      <td>two</td>\n",
              "      <td>hatchback</td>\n",
              "      <td>rwd</td>\n",
              "      <td>front</td>\n",
              "      <td>94.5</td>\n",
              "      <td>171.2</td>\n",
              "      <td>65.5</td>\n",
              "      <td>52.4</td>\n",
              "      <td>2823</td>\n",
              "      <td>ohcv</td>\n",
              "      <td>six</td>\n",
              "      <td>152</td>\n",
              "      <td>mpfi</td>\n",
              "      <td>2.68</td>\n",
              "      <td>3.47</td>\n",
              "      <td>9.0</td>\n",
              "      <td>154</td>\n",
              "      <td>5000</td>\n",
              "      <td>19</td>\n",
              "      <td>26</td>\n",
              "      <td>16500.0</td>\n",
              "    </tr>\n",
              "    <tr>\n",
              "      <th>3</th>\n",
              "      <td>4</td>\n",
              "      <td>2</td>\n",
              "      <td>audi 100 ls</td>\n",
              "      <td>gas</td>\n",
              "      <td>std</td>\n",
              "      <td>four</td>\n",
              "      <td>sedan</td>\n",
              "      <td>fwd</td>\n",
              "      <td>front</td>\n",
              "      <td>99.8</td>\n",
              "      <td>176.6</td>\n",
              "      <td>66.2</td>\n",
              "      <td>54.3</td>\n",
              "      <td>2337</td>\n",
              "      <td>ohc</td>\n",
              "      <td>four</td>\n",
              "      <td>109</td>\n",
              "      <td>mpfi</td>\n",
              "      <td>3.19</td>\n",
              "      <td>3.40</td>\n",
              "      <td>10.0</td>\n",
              "      <td>102</td>\n",
              "      <td>5500</td>\n",
              "      <td>24</td>\n",
              "      <td>30</td>\n",
              "      <td>13950.0</td>\n",
              "    </tr>\n",
              "    <tr>\n",
              "      <th>4</th>\n",
              "      <td>5</td>\n",
              "      <td>2</td>\n",
              "      <td>audi 100ls</td>\n",
              "      <td>gas</td>\n",
              "      <td>std</td>\n",
              "      <td>four</td>\n",
              "      <td>sedan</td>\n",
              "      <td>4wd</td>\n",
              "      <td>front</td>\n",
              "      <td>99.4</td>\n",
              "      <td>176.6</td>\n",
              "      <td>66.4</td>\n",
              "      <td>54.3</td>\n",
              "      <td>2824</td>\n",
              "      <td>ohc</td>\n",
              "      <td>five</td>\n",
              "      <td>136</td>\n",
              "      <td>mpfi</td>\n",
              "      <td>3.19</td>\n",
              "      <td>3.40</td>\n",
              "      <td>8.0</td>\n",
              "      <td>115</td>\n",
              "      <td>5500</td>\n",
              "      <td>18</td>\n",
              "      <td>22</td>\n",
              "      <td>17450.0</td>\n",
              "    </tr>\n",
              "  </tbody>\n",
              "</table>\n",
              "</div>"
            ],
            "text/plain": [
              "   car_ID  symboling                   CarName  ... citympg highwaympg    price\n",
              "0       1          3        alfa-romero giulia  ...      21         27  13495.0\n",
              "1       2          3       alfa-romero stelvio  ...      21         27  16500.0\n",
              "2       3          1  alfa-romero Quadrifoglio  ...      19         26  16500.0\n",
              "3       4          2               audi 100 ls  ...      24         30  13950.0\n",
              "4       5          2                audi 100ls  ...      18         22  17450.0\n",
              "\n",
              "[5 rows x 26 columns]"
            ]
          },
          "metadata": {
            "tags": []
          },
          "execution_count": 5
        }
      ]
    },
    {
      "cell_type": "code",
      "metadata": {
        "id": "qG9kqzpjoWma"
      },
      "source": [
        "#SparseCategoricalCrossentropy "
      ],
      "execution_count": 6,
      "outputs": []
    },
    {
      "cell_type": "code",
      "metadata": {
        "id": "ew7Q_hwQz__f"
      },
      "source": [
        "df.fillna(df.mean(),inplace=True)"
      ],
      "execution_count": 7,
      "outputs": []
    },
    {
      "cell_type": "code",
      "metadata": {
        "colab": {
          "base_uri": "https://localhost:8080/"
        },
        "id": "KrUPSlkmxv9u",
        "outputId": "887b7d0c-ad8f-4539-d7e7-8232bce9dc98"
      },
      "source": [
        "set(df.fuelsystem)"
      ],
      "execution_count": 8,
      "outputs": [
        {
          "output_type": "execute_result",
          "data": {
            "text/plain": [
              "{'1bbl', '2bbl', '4bbl', 'idi', 'mfi', 'mpfi', 'spdi', 'spfi'}"
            ]
          },
          "metadata": {
            "tags": []
          },
          "execution_count": 8
        }
      ]
    },
    {
      "cell_type": "code",
      "metadata": {
        "id": "fk4hwbRdx9JT"
      },
      "source": [
        "df.fuelsystem.replace({'1bbl':0, '2bbl':1, '4bbl':2, 'idi':3, 'mfi':4, 'mpfi':5, 'spdi':6, 'spfi':7},inplace=True)"
      ],
      "execution_count": 9,
      "outputs": []
    },
    {
      "cell_type": "code",
      "metadata": {
        "id": "VOO0IMbJlvA1"
      },
      "source": [
        "df.drop('CarName',inplace=True,axis=1)"
      ],
      "execution_count": 10,
      "outputs": []
    },
    {
      "cell_type": "code",
      "metadata": {
        "colab": {
          "base_uri": "https://localhost:8080/"
        },
        "id": "TkINL0-mwNW_",
        "outputId": "9b8b8321-0d4a-470a-a440-a5efb05256f1"
      },
      "source": [
        "set(df.drivewheel)"
      ],
      "execution_count": 11,
      "outputs": [
        {
          "output_type": "execute_result",
          "data": {
            "text/plain": [
              "{'4wd', 'fwd', 'rwd'}"
            ]
          },
          "metadata": {
            "tags": []
          },
          "execution_count": 11
        }
      ]
    },
    {
      "cell_type": "code",
      "metadata": {
        "id": "nh6D7jSDwOHz"
      },
      "source": [
        "df.drivewheel.replace({'4wd':0, 'fwd':1, 'rwd':2},inplace=True)"
      ],
      "execution_count": 12,
      "outputs": []
    },
    {
      "cell_type": "code",
      "metadata": {
        "colab": {
          "base_uri": "https://localhost:8080/"
        },
        "id": "lXwS3b5CwO0r",
        "outputId": "1f60da09-352f-4f0c-e7c4-7751ecb51ddd"
      },
      "source": [
        "set(df.enginelocation)"
      ],
      "execution_count": 13,
      "outputs": [
        {
          "output_type": "execute_result",
          "data": {
            "text/plain": [
              "{'front', 'rear'}"
            ]
          },
          "metadata": {
            "tags": []
          },
          "execution_count": 13
        }
      ]
    },
    {
      "cell_type": "code",
      "metadata": {
        "id": "1QVj7XPewPRi"
      },
      "source": [
        "df.enginelocation.replace({'front':0, 'rear':1},inplace=True)"
      ],
      "execution_count": 14,
      "outputs": []
    },
    {
      "cell_type": "code",
      "metadata": {
        "colab": {
          "base_uri": "https://localhost:8080/"
        },
        "id": "MiDrgN14wPsr",
        "outputId": "5b25f8a4-7355-44e1-c14b-2f1f38abc022"
      },
      "source": [
        "set(df.enginetype)"
      ],
      "execution_count": 15,
      "outputs": [
        {
          "output_type": "execute_result",
          "data": {
            "text/plain": [
              "{'dohc', 'dohcv', 'l', 'ohc', 'ohcf', 'ohcv', 'rotor'}"
            ]
          },
          "metadata": {
            "tags": []
          },
          "execution_count": 15
        }
      ]
    },
    {
      "cell_type": "code",
      "metadata": {
        "id": "MZTJmbecw9jT"
      },
      "source": [
        "df.enginetype.replace({'dohc':0, 'dohcv':1, 'l':2, 'ohc':3, 'ohcf':4, 'ohcv':5, 'rotor':6},inplace=True)"
      ],
      "execution_count": 16,
      "outputs": []
    },
    {
      "cell_type": "code",
      "metadata": {
        "colab": {
          "base_uri": "https://localhost:8080/"
        },
        "id": "MKfZ3qXHw9w7",
        "outputId": "9643d89f-38ce-4bdb-a4ee-1b75357a856b"
      },
      "source": [
        "set(df.cylindernumber)"
      ],
      "execution_count": 17,
      "outputs": [
        {
          "output_type": "execute_result",
          "data": {
            "text/plain": [
              "{'eight', 'five', 'four', 'six', 'three', 'twelve', 'two'}"
            ]
          },
          "metadata": {
            "tags": []
          },
          "execution_count": 17
        }
      ]
    },
    {
      "cell_type": "code",
      "metadata": {
        "id": "1dkXZIIGw-mM"
      },
      "source": [
        "df.cylindernumber.replace({'eight':8, 'five':5, 'four':4, 'six':6, 'three':3, 'twelve':12, 'two':2},inplace=True)"
      ],
      "execution_count": 18,
      "outputs": []
    },
    {
      "cell_type": "code",
      "metadata": {
        "colab": {
          "base_uri": "https://localhost:8080/"
        },
        "id": "rR7EvjlLr69I",
        "outputId": "f43e19c6-2099-4344-da73-6facfc43e42f"
      },
      "source": [
        "set(df.fueltype)"
      ],
      "execution_count": 19,
      "outputs": [
        {
          "output_type": "execute_result",
          "data": {
            "text/plain": [
              "{'diesel', 'gas'}"
            ]
          },
          "metadata": {
            "tags": []
          },
          "execution_count": 19
        }
      ]
    },
    {
      "cell_type": "code",
      "metadata": {
        "colab": {
          "base_uri": "https://localhost:8080/"
        },
        "id": "2SvEAKqAqNAv",
        "outputId": "17feed8c-0f04-4cd8-dacc-25fe834c0556"
      },
      "source": [
        "df.fueltype = np.where(df.fueltype == 'diesel',1,0);set(df.fueltype)"
      ],
      "execution_count": 20,
      "outputs": [
        {
          "output_type": "execute_result",
          "data": {
            "text/plain": [
              "{0, 1}"
            ]
          },
          "metadata": {
            "tags": []
          },
          "execution_count": 20
        }
      ]
    },
    {
      "cell_type": "code",
      "metadata": {
        "colab": {
          "base_uri": "https://localhost:8080/"
        },
        "id": "WiziGwb-t2pI",
        "outputId": "746701d1-525b-458d-874f-6172ff4063ca"
      },
      "source": [
        "set(df.aspiration)"
      ],
      "execution_count": 21,
      "outputs": [
        {
          "output_type": "execute_result",
          "data": {
            "text/plain": [
              "{'std', 'turbo'}"
            ]
          },
          "metadata": {
            "tags": []
          },
          "execution_count": 21
        }
      ]
    },
    {
      "cell_type": "code",
      "metadata": {
        "colab": {
          "base_uri": "https://localhost:8080/"
        },
        "id": "2puFVRSIu-xB",
        "outputId": "021d2ad1-f4a2-4bd6-a28f-b6e247a828ba"
      },
      "source": [
        "df.aspiration = np.where(df.aspiration=='std',1,0); set(df.aspiration)"
      ],
      "execution_count": 22,
      "outputs": [
        {
          "output_type": "execute_result",
          "data": {
            "text/plain": [
              "{0, 1}"
            ]
          },
          "metadata": {
            "tags": []
          },
          "execution_count": 22
        }
      ]
    },
    {
      "cell_type": "code",
      "metadata": {
        "colab": {
          "base_uri": "https://localhost:8080/"
        },
        "id": "ZL4sN6FssqPy",
        "outputId": "cc6c9ec2-fc62-4110-9afa-919cd85a2a30"
      },
      "source": [
        "set(df.doornumber)"
      ],
      "execution_count": 23,
      "outputs": [
        {
          "output_type": "execute_result",
          "data": {
            "text/plain": [
              "{'four', 'two'}"
            ]
          },
          "metadata": {
            "tags": []
          },
          "execution_count": 23
        }
      ]
    },
    {
      "cell_type": "code",
      "metadata": {
        "id": "8wp2jM9svW6h"
      },
      "source": [
        "df.doornumber = np.where(df.doornumber=='four',1,0)"
      ],
      "execution_count": 24,
      "outputs": []
    },
    {
      "cell_type": "code",
      "metadata": {
        "colab": {
          "base_uri": "https://localhost:8080/"
        },
        "id": "8x6hvWsrvev7",
        "outputId": "c78d3b7f-6502-4f40-ca18-6b0790637da8"
      },
      "source": [
        "set(df.doornumber)"
      ],
      "execution_count": 25,
      "outputs": [
        {
          "output_type": "execute_result",
          "data": {
            "text/plain": [
              "{0, 1}"
            ]
          },
          "metadata": {
            "tags": []
          },
          "execution_count": 25
        }
      ]
    },
    {
      "cell_type": "code",
      "metadata": {
        "colab": {
          "base_uri": "https://localhost:8080/"
        },
        "id": "qS3hNtyevhoy",
        "outputId": "6c51a4c0-07aa-4695-b4ff-43826ca03633"
      },
      "source": [
        "set(df.carbody)"
      ],
      "execution_count": 26,
      "outputs": [
        {
          "output_type": "execute_result",
          "data": {
            "text/plain": [
              "{'convertible', 'hardtop', 'hatchback', 'sedan', 'wagon'}"
            ]
          },
          "metadata": {
            "tags": []
          },
          "execution_count": 26
        }
      ]
    },
    {
      "cell_type": "code",
      "metadata": {
        "id": "GUbg3swCvnWT"
      },
      "source": [
        "df.carbody.replace({'convertible':0, 'hardtop':1, 'hatchback':2, 'sedan':3, 'wagon':4},inplace=True)"
      ],
      "execution_count": 27,
      "outputs": []
    },
    {
      "cell_type": "code",
      "metadata": {
        "colab": {
          "base_uri": "https://localhost:8080/",
          "height": 224
        },
        "id": "fKutOX6pwC07",
        "outputId": "a87fd17e-8191-41e3-8be9-cd21c0b4cb24"
      },
      "source": [
        "df.head()"
      ],
      "execution_count": 28,
      "outputs": [
        {
          "output_type": "execute_result",
          "data": {
            "text/html": [
              "<div>\n",
              "<style scoped>\n",
              "    .dataframe tbody tr th:only-of-type {\n",
              "        vertical-align: middle;\n",
              "    }\n",
              "\n",
              "    .dataframe tbody tr th {\n",
              "        vertical-align: top;\n",
              "    }\n",
              "\n",
              "    .dataframe thead th {\n",
              "        text-align: right;\n",
              "    }\n",
              "</style>\n",
              "<table border=\"1\" class=\"dataframe\">\n",
              "  <thead>\n",
              "    <tr style=\"text-align: right;\">\n",
              "      <th></th>\n",
              "      <th>car_ID</th>\n",
              "      <th>symboling</th>\n",
              "      <th>fueltype</th>\n",
              "      <th>aspiration</th>\n",
              "      <th>doornumber</th>\n",
              "      <th>carbody</th>\n",
              "      <th>drivewheel</th>\n",
              "      <th>enginelocation</th>\n",
              "      <th>wheelbase</th>\n",
              "      <th>carlength</th>\n",
              "      <th>carwidth</th>\n",
              "      <th>carheight</th>\n",
              "      <th>curbweight</th>\n",
              "      <th>enginetype</th>\n",
              "      <th>cylindernumber</th>\n",
              "      <th>enginesize</th>\n",
              "      <th>fuelsystem</th>\n",
              "      <th>boreratio</th>\n",
              "      <th>stroke</th>\n",
              "      <th>compressionratio</th>\n",
              "      <th>horsepower</th>\n",
              "      <th>peakrpm</th>\n",
              "      <th>citympg</th>\n",
              "      <th>highwaympg</th>\n",
              "      <th>price</th>\n",
              "    </tr>\n",
              "  </thead>\n",
              "  <tbody>\n",
              "    <tr>\n",
              "      <th>0</th>\n",
              "      <td>1</td>\n",
              "      <td>3</td>\n",
              "      <td>0</td>\n",
              "      <td>1</td>\n",
              "      <td>0</td>\n",
              "      <td>0</td>\n",
              "      <td>2</td>\n",
              "      <td>0</td>\n",
              "      <td>88.6</td>\n",
              "      <td>168.8</td>\n",
              "      <td>64.1</td>\n",
              "      <td>48.8</td>\n",
              "      <td>2548</td>\n",
              "      <td>0</td>\n",
              "      <td>4</td>\n",
              "      <td>130</td>\n",
              "      <td>5</td>\n",
              "      <td>3.47</td>\n",
              "      <td>2.68</td>\n",
              "      <td>9.0</td>\n",
              "      <td>111</td>\n",
              "      <td>5000</td>\n",
              "      <td>21</td>\n",
              "      <td>27</td>\n",
              "      <td>13495.0</td>\n",
              "    </tr>\n",
              "    <tr>\n",
              "      <th>1</th>\n",
              "      <td>2</td>\n",
              "      <td>3</td>\n",
              "      <td>0</td>\n",
              "      <td>1</td>\n",
              "      <td>0</td>\n",
              "      <td>0</td>\n",
              "      <td>2</td>\n",
              "      <td>0</td>\n",
              "      <td>88.6</td>\n",
              "      <td>168.8</td>\n",
              "      <td>64.1</td>\n",
              "      <td>48.8</td>\n",
              "      <td>2548</td>\n",
              "      <td>0</td>\n",
              "      <td>4</td>\n",
              "      <td>130</td>\n",
              "      <td>5</td>\n",
              "      <td>3.47</td>\n",
              "      <td>2.68</td>\n",
              "      <td>9.0</td>\n",
              "      <td>111</td>\n",
              "      <td>5000</td>\n",
              "      <td>21</td>\n",
              "      <td>27</td>\n",
              "      <td>16500.0</td>\n",
              "    </tr>\n",
              "    <tr>\n",
              "      <th>2</th>\n",
              "      <td>3</td>\n",
              "      <td>1</td>\n",
              "      <td>0</td>\n",
              "      <td>1</td>\n",
              "      <td>0</td>\n",
              "      <td>2</td>\n",
              "      <td>2</td>\n",
              "      <td>0</td>\n",
              "      <td>94.5</td>\n",
              "      <td>171.2</td>\n",
              "      <td>65.5</td>\n",
              "      <td>52.4</td>\n",
              "      <td>2823</td>\n",
              "      <td>5</td>\n",
              "      <td>6</td>\n",
              "      <td>152</td>\n",
              "      <td>5</td>\n",
              "      <td>2.68</td>\n",
              "      <td>3.47</td>\n",
              "      <td>9.0</td>\n",
              "      <td>154</td>\n",
              "      <td>5000</td>\n",
              "      <td>19</td>\n",
              "      <td>26</td>\n",
              "      <td>16500.0</td>\n",
              "    </tr>\n",
              "    <tr>\n",
              "      <th>3</th>\n",
              "      <td>4</td>\n",
              "      <td>2</td>\n",
              "      <td>0</td>\n",
              "      <td>1</td>\n",
              "      <td>1</td>\n",
              "      <td>3</td>\n",
              "      <td>1</td>\n",
              "      <td>0</td>\n",
              "      <td>99.8</td>\n",
              "      <td>176.6</td>\n",
              "      <td>66.2</td>\n",
              "      <td>54.3</td>\n",
              "      <td>2337</td>\n",
              "      <td>3</td>\n",
              "      <td>4</td>\n",
              "      <td>109</td>\n",
              "      <td>5</td>\n",
              "      <td>3.19</td>\n",
              "      <td>3.40</td>\n",
              "      <td>10.0</td>\n",
              "      <td>102</td>\n",
              "      <td>5500</td>\n",
              "      <td>24</td>\n",
              "      <td>30</td>\n",
              "      <td>13950.0</td>\n",
              "    </tr>\n",
              "    <tr>\n",
              "      <th>4</th>\n",
              "      <td>5</td>\n",
              "      <td>2</td>\n",
              "      <td>0</td>\n",
              "      <td>1</td>\n",
              "      <td>1</td>\n",
              "      <td>3</td>\n",
              "      <td>0</td>\n",
              "      <td>0</td>\n",
              "      <td>99.4</td>\n",
              "      <td>176.6</td>\n",
              "      <td>66.4</td>\n",
              "      <td>54.3</td>\n",
              "      <td>2824</td>\n",
              "      <td>3</td>\n",
              "      <td>5</td>\n",
              "      <td>136</td>\n",
              "      <td>5</td>\n",
              "      <td>3.19</td>\n",
              "      <td>3.40</td>\n",
              "      <td>8.0</td>\n",
              "      <td>115</td>\n",
              "      <td>5500</td>\n",
              "      <td>18</td>\n",
              "      <td>22</td>\n",
              "      <td>17450.0</td>\n",
              "    </tr>\n",
              "  </tbody>\n",
              "</table>\n",
              "</div>"
            ],
            "text/plain": [
              "   car_ID  symboling  fueltype  ...  citympg  highwaympg    price\n",
              "0       1          3         0  ...       21          27  13495.0\n",
              "1       2          3         0  ...       21          27  16500.0\n",
              "2       3          1         0  ...       19          26  16500.0\n",
              "3       4          2         0  ...       24          30  13950.0\n",
              "4       5          2         0  ...       18          22  17450.0\n",
              "\n",
              "[5 rows x 25 columns]"
            ]
          },
          "metadata": {
            "tags": []
          },
          "execution_count": 28
        }
      ]
    },
    {
      "cell_type": "code",
      "metadata": {
        "id": "wB7rR2GW0fB8"
      },
      "source": [
        "df.drop('car_ID',inplace=True,axis=1)"
      ],
      "execution_count": 29,
      "outputs": []
    },
    {
      "cell_type": "code",
      "metadata": {
        "colab": {
          "base_uri": "https://localhost:8080/",
          "height": 224
        },
        "id": "Y0XRDLq_0uGM",
        "outputId": "97579b54-03a7-4574-94a8-45d731426ce3"
      },
      "source": [
        "df.head()"
      ],
      "execution_count": 30,
      "outputs": [
        {
          "output_type": "execute_result",
          "data": {
            "text/html": [
              "<div>\n",
              "<style scoped>\n",
              "    .dataframe tbody tr th:only-of-type {\n",
              "        vertical-align: middle;\n",
              "    }\n",
              "\n",
              "    .dataframe tbody tr th {\n",
              "        vertical-align: top;\n",
              "    }\n",
              "\n",
              "    .dataframe thead th {\n",
              "        text-align: right;\n",
              "    }\n",
              "</style>\n",
              "<table border=\"1\" class=\"dataframe\">\n",
              "  <thead>\n",
              "    <tr style=\"text-align: right;\">\n",
              "      <th></th>\n",
              "      <th>symboling</th>\n",
              "      <th>fueltype</th>\n",
              "      <th>aspiration</th>\n",
              "      <th>doornumber</th>\n",
              "      <th>carbody</th>\n",
              "      <th>drivewheel</th>\n",
              "      <th>enginelocation</th>\n",
              "      <th>wheelbase</th>\n",
              "      <th>carlength</th>\n",
              "      <th>carwidth</th>\n",
              "      <th>carheight</th>\n",
              "      <th>curbweight</th>\n",
              "      <th>enginetype</th>\n",
              "      <th>cylindernumber</th>\n",
              "      <th>enginesize</th>\n",
              "      <th>fuelsystem</th>\n",
              "      <th>boreratio</th>\n",
              "      <th>stroke</th>\n",
              "      <th>compressionratio</th>\n",
              "      <th>horsepower</th>\n",
              "      <th>peakrpm</th>\n",
              "      <th>citympg</th>\n",
              "      <th>highwaympg</th>\n",
              "      <th>price</th>\n",
              "    </tr>\n",
              "  </thead>\n",
              "  <tbody>\n",
              "    <tr>\n",
              "      <th>0</th>\n",
              "      <td>3</td>\n",
              "      <td>0</td>\n",
              "      <td>1</td>\n",
              "      <td>0</td>\n",
              "      <td>0</td>\n",
              "      <td>2</td>\n",
              "      <td>0</td>\n",
              "      <td>88.6</td>\n",
              "      <td>168.8</td>\n",
              "      <td>64.1</td>\n",
              "      <td>48.8</td>\n",
              "      <td>2548</td>\n",
              "      <td>0</td>\n",
              "      <td>4</td>\n",
              "      <td>130</td>\n",
              "      <td>5</td>\n",
              "      <td>3.47</td>\n",
              "      <td>2.68</td>\n",
              "      <td>9.0</td>\n",
              "      <td>111</td>\n",
              "      <td>5000</td>\n",
              "      <td>21</td>\n",
              "      <td>27</td>\n",
              "      <td>13495.0</td>\n",
              "    </tr>\n",
              "    <tr>\n",
              "      <th>1</th>\n",
              "      <td>3</td>\n",
              "      <td>0</td>\n",
              "      <td>1</td>\n",
              "      <td>0</td>\n",
              "      <td>0</td>\n",
              "      <td>2</td>\n",
              "      <td>0</td>\n",
              "      <td>88.6</td>\n",
              "      <td>168.8</td>\n",
              "      <td>64.1</td>\n",
              "      <td>48.8</td>\n",
              "      <td>2548</td>\n",
              "      <td>0</td>\n",
              "      <td>4</td>\n",
              "      <td>130</td>\n",
              "      <td>5</td>\n",
              "      <td>3.47</td>\n",
              "      <td>2.68</td>\n",
              "      <td>9.0</td>\n",
              "      <td>111</td>\n",
              "      <td>5000</td>\n",
              "      <td>21</td>\n",
              "      <td>27</td>\n",
              "      <td>16500.0</td>\n",
              "    </tr>\n",
              "    <tr>\n",
              "      <th>2</th>\n",
              "      <td>1</td>\n",
              "      <td>0</td>\n",
              "      <td>1</td>\n",
              "      <td>0</td>\n",
              "      <td>2</td>\n",
              "      <td>2</td>\n",
              "      <td>0</td>\n",
              "      <td>94.5</td>\n",
              "      <td>171.2</td>\n",
              "      <td>65.5</td>\n",
              "      <td>52.4</td>\n",
              "      <td>2823</td>\n",
              "      <td>5</td>\n",
              "      <td>6</td>\n",
              "      <td>152</td>\n",
              "      <td>5</td>\n",
              "      <td>2.68</td>\n",
              "      <td>3.47</td>\n",
              "      <td>9.0</td>\n",
              "      <td>154</td>\n",
              "      <td>5000</td>\n",
              "      <td>19</td>\n",
              "      <td>26</td>\n",
              "      <td>16500.0</td>\n",
              "    </tr>\n",
              "    <tr>\n",
              "      <th>3</th>\n",
              "      <td>2</td>\n",
              "      <td>0</td>\n",
              "      <td>1</td>\n",
              "      <td>1</td>\n",
              "      <td>3</td>\n",
              "      <td>1</td>\n",
              "      <td>0</td>\n",
              "      <td>99.8</td>\n",
              "      <td>176.6</td>\n",
              "      <td>66.2</td>\n",
              "      <td>54.3</td>\n",
              "      <td>2337</td>\n",
              "      <td>3</td>\n",
              "      <td>4</td>\n",
              "      <td>109</td>\n",
              "      <td>5</td>\n",
              "      <td>3.19</td>\n",
              "      <td>3.40</td>\n",
              "      <td>10.0</td>\n",
              "      <td>102</td>\n",
              "      <td>5500</td>\n",
              "      <td>24</td>\n",
              "      <td>30</td>\n",
              "      <td>13950.0</td>\n",
              "    </tr>\n",
              "    <tr>\n",
              "      <th>4</th>\n",
              "      <td>2</td>\n",
              "      <td>0</td>\n",
              "      <td>1</td>\n",
              "      <td>1</td>\n",
              "      <td>3</td>\n",
              "      <td>0</td>\n",
              "      <td>0</td>\n",
              "      <td>99.4</td>\n",
              "      <td>176.6</td>\n",
              "      <td>66.4</td>\n",
              "      <td>54.3</td>\n",
              "      <td>2824</td>\n",
              "      <td>3</td>\n",
              "      <td>5</td>\n",
              "      <td>136</td>\n",
              "      <td>5</td>\n",
              "      <td>3.19</td>\n",
              "      <td>3.40</td>\n",
              "      <td>8.0</td>\n",
              "      <td>115</td>\n",
              "      <td>5500</td>\n",
              "      <td>18</td>\n",
              "      <td>22</td>\n",
              "      <td>17450.0</td>\n",
              "    </tr>\n",
              "  </tbody>\n",
              "</table>\n",
              "</div>"
            ],
            "text/plain": [
              "   symboling  fueltype  aspiration  ...  citympg  highwaympg    price\n",
              "0          3         0           1  ...       21          27  13495.0\n",
              "1          3         0           1  ...       21          27  16500.0\n",
              "2          1         0           1  ...       19          26  16500.0\n",
              "3          2         0           1  ...       24          30  13950.0\n",
              "4          2         0           1  ...       18          22  17450.0\n",
              "\n",
              "[5 rows x 24 columns]"
            ]
          },
          "metadata": {
            "tags": []
          },
          "execution_count": 30
        }
      ]
    },
    {
      "cell_type": "code",
      "metadata": {
        "id": "dg1VWL0c08K8"
      },
      "source": [
        "featuresDf,labelDf = df[df.columns[:-1]],df[df.columns[-1]]"
      ],
      "execution_count": 31,
      "outputs": []
    },
    {
      "cell_type": "code",
      "metadata": {
        "id": "KbuXQRXD1P4M"
      },
      "source": [
        "totalSize = len(df)\n",
        "trainingSize = totalSize * 5 // 10\n",
        "validationSize = totalSize * 2 // 10\n",
        "testSize = totalSize - trainingSize - validationSize"
      ],
      "execution_count": 32,
      "outputs": []
    },
    {
      "cell_type": "code",
      "metadata": {
        "id": "TUSIj5Rv2W_O"
      },
      "source": [
        "trainingData, trainingLabel = featuresDf[:trainingSize],labelDf[:trainingSize]\n",
        "validationData, validationLabel = featuresDf[trainingSize:trainingSize+validationSize],labelDf[trainingSize:trainingSize+validationSize]\n",
        "testData,testLabel = featuresDf[trainingSize+validationSize:],labelDf[trainingSize+validationSize:]"
      ],
      "execution_count": 33,
      "outputs": []
    },
    {
      "cell_type": "code",
      "metadata": {
        "id": "Sn8QnbDN7HQT"
      },
      "source": [
        "columns = ['wheelbase', 'carlength', 'carwidth', 'carheight', 'curbweight', 'enginesize', 'boreratio', 'stroke',\n",
        " 'compressionratio', 'horsepower', 'peakrpm', 'citympg', 'highwaympg']"
      ],
      "execution_count": 34,
      "outputs": []
    },
    {
      "cell_type": "code",
      "metadata": {
        "id": "NDCbcMES2jv8"
      },
      "source": [
        "tmpTraingDf =trainingData[columns]\n",
        "tmpValDf = validationData[columns]\n",
        "tmpTestDf = testData[columns]"
      ],
      "execution_count": 35,
      "outputs": []
    },
    {
      "cell_type": "code",
      "metadata": {
        "id": "808ouBqZ6M0-"
      },
      "source": [
        "mean = trainingData.mean()\n",
        "tmpTraingDf -= mean\n",
        "tmpValDf -= mean\n",
        "tmpTestDf -= mean\n",
        "st = tmpTraingDf.std()\n",
        "tmpTraingDf /= st\n",
        "tmpValDf /= st\n",
        "tmpTestDf /= st"
      ],
      "execution_count": 36,
      "outputs": []
    },
    {
      "cell_type": "code",
      "metadata": {
        "colab": {
          "base_uri": "https://localhost:8080/"
        },
        "id": "-5CZb9iN7kVm",
        "outputId": "37b121e8-16f2-4753-b3e2-102f5d48c090"
      },
      "source": [
        "trainingData[columns] = tmpTraingDf\n",
        "validationData[columns] = tmpValDf\n",
        "testData[columns] = tmpTestDf"
      ],
      "execution_count": 37,
      "outputs": [
        {
          "output_type": "stream",
          "text": [
            "/usr/local/lib/python3.7/dist-packages/pandas/core/frame.py:3069: SettingWithCopyWarning: \n",
            "A value is trying to be set on a copy of a slice from a DataFrame.\n",
            "Try using .loc[row_indexer,col_indexer] = value instead\n",
            "\n",
            "See the caveats in the documentation: https://pandas.pydata.org/pandas-docs/stable/user_guide/indexing.html#returning-a-view-versus-a-copy\n",
            "  self[k1] = value[k2]\n"
          ],
          "name": "stderr"
        }
      ]
    },
    {
      "cell_type": "code",
      "metadata": {
        "id": "M7NB66AG93Xd"
      },
      "source": [
        "model = models.Sequential()\n",
        "model.add(layers.Dense(22, activation='tanh', input_shape=(len(trainingData.columns),)))\n",
        "model.add(layers.Dropout(0.2))\n",
        "model.add(layers.Dense(18, activation='tanh'))\n",
        "model.add(layers.Dropout(0.5))\n",
        "model.add(layers.Dense(11, activation='relu'))\n",
        "model.add(layers.Dense(1))\n",
        "model.compile(optimizer='rmsprop', loss='mse', metrics=['mae'])"
      ],
      "execution_count": 42,
      "outputs": []
    },
    {
      "cell_type": "code",
      "metadata": {
        "colab": {
          "base_uri": "https://localhost:8080/"
        },
        "id": "BviEHw-WAt5w",
        "outputId": "9dc654a9-d0cf-4a52-822b-7322e330ce78"
      },
      "source": [
        "model.fit(trainingData,trainingLabel,epochs=100)"
      ],
      "execution_count": 43,
      "outputs": [
        {
          "output_type": "stream",
          "text": [
            "Epoch 1/100\n",
            "4/4 [==============================] - 1s 3ms/step - loss: 278741222.4000 - mae: 13816.1385\n",
            "Epoch 2/100\n",
            "4/4 [==============================] - 0s 3ms/step - loss: 277896380.8000 - mae: 13783.4732\n",
            "Epoch 3/100\n",
            "4/4 [==============================] - 0s 3ms/step - loss: 287429280.0000 - mae: 14028.7584\n",
            "Epoch 4/100\n",
            "4/4 [==============================] - 0s 3ms/step - loss: 260500716.8000 - mae: 13539.7953\n",
            "Epoch 5/100\n",
            "4/4 [==============================] - 0s 3ms/step - loss: 283115609.6000 - mae: 13892.4324\n",
            "Epoch 6/100\n",
            "4/4 [==============================] - 0s 3ms/step - loss: 271983059.2000 - mae: 13647.6414\n",
            "Epoch 7/100\n",
            "4/4 [==============================] - 0s 3ms/step - loss: 259756899.2000 - mae: 13415.6496\n",
            "Epoch 8/100\n",
            "4/4 [==============================] - 0s 3ms/step - loss: 277354252.8000 - mae: 13717.7795\n",
            "Epoch 9/100\n",
            "4/4 [==============================] - 0s 3ms/step - loss: 280569568.0000 - mae: 13685.6797\n",
            "Epoch 10/100\n",
            "4/4 [==============================] - 0s 3ms/step - loss: 276473798.4000 - mae: 13863.2600\n",
            "Epoch 11/100\n",
            "4/4 [==============================] - 0s 3ms/step - loss: 263989945.6000 - mae: 13403.5557\n",
            "Epoch 12/100\n",
            "4/4 [==============================] - 0s 4ms/step - loss: 252654640.0000 - mae: 13204.8518\n",
            "Epoch 13/100\n",
            "4/4 [==============================] - 0s 5ms/step - loss: 273298720.0000 - mae: 13657.0924\n",
            "Epoch 14/100\n",
            "4/4 [==============================] - 0s 4ms/step - loss: 276759737.6000 - mae: 13686.5662\n",
            "Epoch 15/100\n",
            "4/4 [==============================] - 0s 3ms/step - loss: 282194566.4000 - mae: 13865.8414\n",
            "Epoch 16/100\n",
            "4/4 [==============================] - 0s 4ms/step - loss: 276954966.4000 - mae: 13708.1143\n",
            "Epoch 17/100\n",
            "4/4 [==============================] - 0s 3ms/step - loss: 262126419.2000 - mae: 13318.3635\n",
            "Epoch 18/100\n",
            "4/4 [==============================] - 0s 4ms/step - loss: 249038377.6000 - mae: 12946.6191\n",
            "Epoch 19/100\n",
            "4/4 [==============================] - 0s 4ms/step - loss: 276978550.4000 - mae: 13690.6262\n",
            "Epoch 20/100\n",
            "4/4 [==============================] - 0s 4ms/step - loss: 273295520.0000 - mae: 13511.2498\n",
            "Epoch 21/100\n",
            "4/4 [==============================] - 0s 4ms/step - loss: 296068672.0000 - mae: 14241.0197\n",
            "Epoch 22/100\n",
            "4/4 [==============================] - 0s 5ms/step - loss: 313913939.2000 - mae: 14527.1223\n",
            "Epoch 23/100\n",
            "4/4 [==============================] - 0s 4ms/step - loss: 252700915.2000 - mae: 13176.4762\n",
            "Epoch 24/100\n",
            "4/4 [==============================] - 0s 4ms/step - loss: 266203580.8000 - mae: 13491.2262\n",
            "Epoch 25/100\n",
            "4/4 [==============================] - 0s 4ms/step - loss: 276492220.8000 - mae: 13523.1768\n",
            "Epoch 26/100\n",
            "4/4 [==============================] - 0s 3ms/step - loss: 276479488.0000 - mae: 13677.2623\n",
            "Epoch 27/100\n",
            "4/4 [==============================] - 0s 3ms/step - loss: 296215107.2000 - mae: 14107.3969\n",
            "Epoch 28/100\n",
            "4/4 [==============================] - 0s 3ms/step - loss: 270006934.4000 - mae: 13446.5287\n",
            "Epoch 29/100\n",
            "4/4 [==============================] - 0s 3ms/step - loss: 274251382.4000 - mae: 13596.9816\n",
            "Epoch 30/100\n",
            "4/4 [==============================] - 0s 3ms/step - loss: 308605731.2000 - mae: 14332.7938\n",
            "Epoch 31/100\n",
            "4/4 [==============================] - 0s 5ms/step - loss: 266877417.6000 - mae: 13472.4930\n",
            "Epoch 32/100\n",
            "4/4 [==============================] - 0s 3ms/step - loss: 272677680.0000 - mae: 13717.0580\n",
            "Epoch 33/100\n",
            "4/4 [==============================] - 0s 5ms/step - loss: 259661568.0000 - mae: 13312.4270\n",
            "Epoch 34/100\n",
            "4/4 [==============================] - 0s 3ms/step - loss: 282927046.4000 - mae: 13892.5297\n",
            "Epoch 35/100\n",
            "4/4 [==============================] - 0s 5ms/step - loss: 288065715.2000 - mae: 13766.4631\n",
            "Epoch 36/100\n",
            "4/4 [==============================] - 0s 4ms/step - loss: 317246784.0000 - mae: 14577.6457\n",
            "Epoch 37/100\n",
            "4/4 [==============================] - 0s 3ms/step - loss: 295829734.4000 - mae: 14011.5475\n",
            "Epoch 38/100\n",
            "4/4 [==============================] - 0s 3ms/step - loss: 261803961.6000 - mae: 13303.4996\n",
            "Epoch 39/100\n",
            "4/4 [==============================] - 0s 3ms/step - loss: 298489747.2000 - mae: 14313.5266\n",
            "Epoch 40/100\n",
            "4/4 [==============================] - 0s 5ms/step - loss: 280975859.2000 - mae: 13754.5100\n",
            "Epoch 41/100\n",
            "4/4 [==============================] - 0s 3ms/step - loss: 297643820.8000 - mae: 14097.5449\n",
            "Epoch 42/100\n",
            "4/4 [==============================] - 0s 4ms/step - loss: 267124742.4000 - mae: 13525.6951\n",
            "Epoch 43/100\n",
            "4/4 [==============================] - 0s 5ms/step - loss: 296528089.6000 - mae: 14121.3416\n",
            "Epoch 44/100\n",
            "4/4 [==============================] - 0s 3ms/step - loss: 274183763.2000 - mae: 13610.4975\n",
            "Epoch 45/100\n",
            "4/4 [==============================] - 0s 4ms/step - loss: 292862803.2000 - mae: 13935.1346\n",
            "Epoch 46/100\n",
            "4/4 [==============================] - 0s 4ms/step - loss: 260863596.8000 - mae: 13334.7051\n",
            "Epoch 47/100\n",
            "4/4 [==============================] - 0s 5ms/step - loss: 288419276.8000 - mae: 13977.3139\n",
            "Epoch 48/100\n",
            "4/4 [==============================] - 0s 4ms/step - loss: 261213932.8000 - mae: 13485.5107\n",
            "Epoch 49/100\n",
            "4/4 [==============================] - 0s 4ms/step - loss: 284178720.0000 - mae: 13982.8234\n",
            "Epoch 50/100\n",
            "4/4 [==============================] - 0s 3ms/step - loss: 311420422.4000 - mae: 14599.6906\n",
            "Epoch 51/100\n",
            "4/4 [==============================] - 0s 4ms/step - loss: 279359846.4000 - mae: 13939.4297\n",
            "Epoch 52/100\n",
            "4/4 [==============================] - 0s 3ms/step - loss: 298698240.0000 - mae: 14270.0037\n",
            "Epoch 53/100\n",
            "4/4 [==============================] - 0s 4ms/step - loss: 267388448.0000 - mae: 13642.4049\n",
            "Epoch 54/100\n",
            "4/4 [==============================] - 0s 3ms/step - loss: 299029836.8000 - mae: 14196.9502\n",
            "Epoch 55/100\n",
            "4/4 [==============================] - 0s 4ms/step - loss: 284088723.2000 - mae: 13684.6102\n",
            "Epoch 56/100\n",
            "4/4 [==============================] - 0s 3ms/step - loss: 307240595.2000 - mae: 14258.3523\n",
            "Epoch 57/100\n",
            "4/4 [==============================] - 0s 4ms/step - loss: 298011961.6000 - mae: 14054.9104\n",
            "Epoch 58/100\n",
            "4/4 [==============================] - 0s 3ms/step - loss: 279016550.4000 - mae: 13701.7771\n",
            "Epoch 59/100\n",
            "4/4 [==============================] - 0s 4ms/step - loss: 262598086.4000 - mae: 13265.3578\n",
            "Epoch 60/100\n",
            "4/4 [==============================] - 0s 4ms/step - loss: 259010105.6000 - mae: 13338.5996\n",
            "Epoch 61/100\n",
            "4/4 [==============================] - 0s 5ms/step - loss: 289778176.0000 - mae: 14016.5861\n",
            "Epoch 62/100\n",
            "4/4 [==============================] - 0s 4ms/step - loss: 279330675.2000 - mae: 13625.2756\n",
            "Epoch 63/100\n",
            "4/4 [==============================] - 0s 4ms/step - loss: 268740694.4000 - mae: 13477.1395\n",
            "Epoch 64/100\n",
            "4/4 [==============================] - 0s 3ms/step - loss: 286647046.4000 - mae: 14083.4627\n",
            "Epoch 65/100\n",
            "4/4 [==============================] - 0s 3ms/step - loss: 285303296.0000 - mae: 13801.1506\n",
            "Epoch 66/100\n",
            "4/4 [==============================] - 0s 4ms/step - loss: 265668102.4000 - mae: 13495.5125\n",
            "Epoch 67/100\n",
            "4/4 [==============================] - 0s 3ms/step - loss: 285354457.6000 - mae: 14049.4084\n",
            "Epoch 68/100\n",
            "4/4 [==============================] - 0s 3ms/step - loss: 279145052.8000 - mae: 13769.9322\n",
            "Epoch 69/100\n",
            "4/4 [==============================] - 0s 3ms/step - loss: 271951158.4000 - mae: 13749.9775\n",
            "Epoch 70/100\n",
            "4/4 [==============================] - 0s 3ms/step - loss: 307025139.2000 - mae: 14281.9672\n",
            "Epoch 71/100\n",
            "4/4 [==============================] - 0s 4ms/step - loss: 276618688.0000 - mae: 13495.1795\n",
            "Epoch 72/100\n",
            "4/4 [==============================] - 0s 4ms/step - loss: 269068764.8000 - mae: 13327.8359\n",
            "Epoch 73/100\n",
            "4/4 [==============================] - 0s 3ms/step - loss: 281811942.4000 - mae: 13814.2469\n",
            "Epoch 74/100\n",
            "4/4 [==============================] - 0s 5ms/step - loss: 272712201.6000 - mae: 13604.6568\n",
            "Epoch 75/100\n",
            "4/4 [==============================] - 0s 3ms/step - loss: 261768492.8000 - mae: 13327.6957\n",
            "Epoch 76/100\n",
            "4/4 [==============================] - 0s 3ms/step - loss: 259288563.2000 - mae: 13198.3766\n",
            "Epoch 77/100\n",
            "4/4 [==============================] - 0s 4ms/step - loss: 272959161.6000 - mae: 13669.1918\n",
            "Epoch 78/100\n",
            "4/4 [==============================] - 0s 3ms/step - loss: 264398192.0000 - mae: 13296.1506\n",
            "Epoch 79/100\n",
            "4/4 [==============================] - 0s 6ms/step - loss: 272955443.2000 - mae: 13508.5350\n",
            "Epoch 80/100\n",
            "4/4 [==============================] - 0s 5ms/step - loss: 254796108.8000 - mae: 13229.5803\n",
            "Epoch 81/100\n",
            "4/4 [==============================] - 0s 5ms/step - loss: 253693929.6000 - mae: 13220.7762\n",
            "Epoch 82/100\n",
            "4/4 [==============================] - 0s 4ms/step - loss: 307930835.2000 - mae: 14248.8359\n",
            "Epoch 83/100\n",
            "4/4 [==============================] - 0s 4ms/step - loss: 296914886.4000 - mae: 14221.8982\n",
            "Epoch 84/100\n",
            "4/4 [==============================] - 0s 4ms/step - loss: 289284742.4000 - mae: 13935.2146\n",
            "Epoch 85/100\n",
            "4/4 [==============================] - 0s 4ms/step - loss: 251090726.4000 - mae: 13214.8455\n",
            "Epoch 86/100\n",
            "4/4 [==============================] - 0s 4ms/step - loss: 289072403.2000 - mae: 14064.4604\n",
            "Epoch 87/100\n",
            "4/4 [==============================] - 0s 6ms/step - loss: 304101465.6000 - mae: 14319.3002\n",
            "Epoch 88/100\n",
            "4/4 [==============================] - 0s 7ms/step - loss: 289264960.0000 - mae: 13928.1895\n",
            "Epoch 89/100\n",
            "4/4 [==============================] - 0s 3ms/step - loss: 268430777.6000 - mae: 13560.3813\n",
            "Epoch 90/100\n",
            "4/4 [==============================] - 0s 4ms/step - loss: 279812256.0000 - mae: 13798.9672\n",
            "Epoch 91/100\n",
            "4/4 [==============================] - 0s 7ms/step - loss: 270426035.2000 - mae: 13616.2740\n",
            "Epoch 92/100\n",
            "4/4 [==============================] - 0s 4ms/step - loss: 247327683.2000 - mae: 12996.8018\n",
            "Epoch 93/100\n",
            "4/4 [==============================] - 0s 3ms/step - loss: 255752480.0000 - mae: 13102.5482\n",
            "Epoch 94/100\n",
            "4/4 [==============================] - 0s 4ms/step - loss: 274134956.8000 - mae: 13429.0807\n",
            "Epoch 95/100\n",
            "4/4 [==============================] - 0s 3ms/step - loss: 258000544.0000 - mae: 13215.5811\n",
            "Epoch 96/100\n",
            "4/4 [==============================] - 0s 3ms/step - loss: 264097462.4000 - mae: 13457.6896\n",
            "Epoch 97/100\n",
            "4/4 [==============================] - 0s 4ms/step - loss: 298898112.0000 - mae: 14158.2510\n",
            "Epoch 98/100\n",
            "4/4 [==============================] - 0s 4ms/step - loss: 260986505.6000 - mae: 13360.2086\n",
            "Epoch 99/100\n",
            "4/4 [==============================] - 0s 4ms/step - loss: 285442425.6000 - mae: 13706.4848\n",
            "Epoch 100/100\n",
            "4/4 [==============================] - 0s 3ms/step - loss: 253700233.6000 - mae: 13212.7441\n"
          ],
          "name": "stdout"
        },
        {
          "output_type": "execute_result",
          "data": {
            "text/plain": [
              "<tensorflow.python.keras.callbacks.History at 0x7f04be8fbed0>"
            ]
          },
          "metadata": {
            "tags": []
          },
          "execution_count": 43
        }
      ]
    },
    {
      "cell_type": "code",
      "metadata": {
        "id": "ZIvmorgWbPQa",
        "outputId": "8959093c-62c5-4faf-e15f-10344a018187",
        "colab": {
          "base_uri": "https://localhost:8080/"
        }
      },
      "source": [
        "model.evaluate(validationData,validationLabel)"
      ],
      "execution_count": 45,
      "outputs": [
        {
          "output_type": "stream",
          "text": [
            "2/2 [==============================] - 0s 4ms/step - loss: 280066624.0000 - mae: 14902.5273\n"
          ],
          "name": "stdout"
        },
        {
          "output_type": "execute_result",
          "data": {
            "text/plain": [
              "[280066624.0, 14902.52734375]"
            ]
          },
          "metadata": {
            "tags": []
          },
          "execution_count": 45
        }
      ]
    },
    {
      "cell_type": "code",
      "metadata": {
        "colab": {
          "base_uri": "https://localhost:8080/"
        },
        "id": "YXyzn2KeB9gf",
        "outputId": "aa3cc4c8-335d-47ad-b522-b56239f262ab"
      },
      "source": [
        "model.evaluate(testData,testLabel)"
      ],
      "execution_count": 46,
      "outputs": [
        {
          "output_type": "stream",
          "text": [
            "2/2 [==============================] - 0s 6ms/step - loss: 146282336.0000 - mae: 11338.7139\n"
          ],
          "name": "stdout"
        },
        {
          "output_type": "execute_result",
          "data": {
            "text/plain": [
              "[146282336.0, 11338.7138671875]"
            ]
          },
          "metadata": {
            "tags": []
          },
          "execution_count": 46
        }
      ]
    },
    {
      "cell_type": "code",
      "metadata": {
        "id": "0IAHbTlVCF7Q"
      },
      "source": [
        ""
      ],
      "execution_count": null,
      "outputs": []
    }
  ]
}