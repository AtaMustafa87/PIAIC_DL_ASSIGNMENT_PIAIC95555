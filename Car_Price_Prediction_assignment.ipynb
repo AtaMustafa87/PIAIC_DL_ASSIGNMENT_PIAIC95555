{
 "cells": [
  {
   "cell_type": "markdown",
   "metadata": {
    "id": "U1NMFYzKlvAj"
   },
   "source": [
    "# Car Price Prediction::"
   ]
  },
  {
   "cell_type": "markdown",
   "metadata": {
    "id": "BEdKeCXjlvAu"
   },
   "source": [
    "Download dataset from this link:\n",
    "\n",
    "https://www.kaggle.com/hellbuoy/car-price-prediction"
   ]
  },
  {
   "cell_type": "markdown",
   "metadata": {
    "id": "CF2oCumZlvAv"
   },
   "source": [
    "# Problem Statement::"
   ]
  },
  {
   "cell_type": "markdown",
   "metadata": {
    "id": "t0jKkiZilvAw"
   },
   "source": [
    "A Chinese automobile company Geely Auto aspires to enter the US market by setting up their manufacturing unit there and producing cars locally to give competition to their US and European counterparts.\n",
    "\n",
    "They have contracted an automobile consulting company to understand the factors on which the pricing of cars depends. Specifically, they want to understand the factors affecting the pricing of cars in the American market, since those may be very different from the Chinese market. The company wants to know:\n",
    "\n",
    "Which variables are significant in predicting the price of a car\n",
    "How well those variables describe the price of a car\n",
    "Based on various market surveys, the consulting firm has gathered a large data set of different types of cars across the America market.\n",
    "\n",
    "# task::\n",
    "We are required to model the price of cars with the available independent variables. It will be used by the management to understand how exactly the prices vary with the independent variables. They can accordingly manipulate the design of the cars, the business strategy etc. to meet certain price levels. Further, the model will be a good way for management to understand the pricing dynamics of a new market."
   ]
  },
  {
   "cell_type": "markdown",
   "metadata": {
    "id": "Gv7mFXfElvAx"
   },
   "source": [
    "# WORKFLOW ::"
   ]
  },
  {
   "cell_type": "markdown",
   "metadata": {
    "id": "v7Rnf6AtlvAy"
   },
   "source": [
    "1.Load Data\n",
    "\n",
    "2.Check Missing Values ( If Exist ; Fill each record with mean of its feature )\n",
    "\n",
    "3.Split into 50% Training(Samples,Labels) , 30% Test(Samples,Labels) and 20% Validation Data(Samples,Labels).\n",
    "\n",
    "4.Model : input Layer (No. of features ), 3 hidden layers including 10,8,6 unit & Output Layer with activation function relu/tanh (check by experiment).\n",
    "\n",
    "5.Compilation Step (Note : Its a Regression problem , select loss , metrics according to it)\n",
    "6.Train the Model with Epochs (100) and validate it\n",
    "\n",
    "7.If the model gets overfit tune your model by changing the units , No. of layers , activation function , epochs , add dropout layer or add Regularizer according to the need .\n",
    "\n",
    "8.Evaluation Step\n",
    "\n",
    "9.Prediction"
   ]
  },
  {
   "cell_type": "code",
   "execution_count": 1,
   "metadata": {
    "colab": {
     "base_uri": "https://localhost:8080/"
    },
    "id": "5kIYsG_XlvAy",
    "outputId": "4d12308a-05c5-4f52-e4d6-07a2f00f2dd9"
   },
   "outputs": [
    {
     "name": "stdout",
     "output_type": "stream",
     "text": [
      "--2021-04-01 22:44:24--  https://drive.google.com/file/d/1Ipqr162tQA63nBNb0D8tV7NoN1Txvc0j/view?usp=sharing\n",
      "Resolving drive.google.com (drive.google.com)... 172.217.2.110, 2607:f8b0:4004:80a::200e\n",
      "Connecting to drive.google.com (drive.google.com)|172.217.2.110|:443... connected.\n",
      "HTTP request sent, awaiting response... 200 OK\n",
      "Length: unspecified [text/html]\n",
      "Saving to: ‘./view?usp=sharing’\n",
      "\n",
      "\r",
      "view?usp=sharing        [<=>                 ]       0  --.-KB/s               \r",
      "view?usp=sharing        [ <=>                ]  62.57K  --.-KB/s    in 0.008s  \n",
      "\n",
      "2021-04-01 22:44:24 (7.58 MB/s) - ‘./view?usp=sharing’ saved [64073]\n",
      "\n"
     ]
    }
   ],
   "source": [
    "!wget https://drive.google.com/file/d/1Ipqr162tQA63nBNb0D8tV7NoN1Txvc0j/view?usp=sharing -P ."
   ]
  },
  {
   "cell_type": "code",
   "execution_count": null,
   "metadata": {
    "id": "RLZl3EOolvAz"
   },
   "outputs": [],
   "source": []
  },
  {
   "cell_type": "code",
   "execution_count": 2,
   "metadata": {
    "colab": {
     "base_uri": "https://localhost:8080/"
    },
    "id": "RBIud_u6nDiE",
    "outputId": "0106fb8d-bfc6-44b2-d0f0-be03dcf594c5"
   },
   "outputs": [
    {
     "name": "stdout",
     "output_type": "stream",
     "text": [
      "Mounted at /content/drive\n"
     ]
    }
   ],
   "source": [
    "from google.colab import drive\n",
    "drive.mount('/content/drive')"
   ]
  },
  {
   "cell_type": "code",
   "execution_count": 3,
   "metadata": {
    "id": "VAGsKVa6lvA0"
   },
   "outputs": [],
   "source": [
    "import pandas as pd\n",
    "import numpy as np\n",
    "from sklearn.model_selection import train_test_split\n",
    "from keras import models\n",
    "from keras import layers"
   ]
  },
  {
   "cell_type": "code",
   "execution_count": 228,
   "metadata": {
    "id": "r4drEXqBlvA0"
   },
   "outputs": [],
   "source": [
    "df = pd.read_csv('/content/drive/MyDrive/CarPrice_Assignment.csv')"
   ]
  },
  {
   "cell_type": "code",
   "execution_count": 229,
   "metadata": {
    "colab": {
     "base_uri": "https://localhost:8080/",
     "height": 275
    },
    "id": "i4ZTY1wflvA1",
    "outputId": "2087e833-c01d-4ecb-fb76-c5c80cc88f45"
   },
   "outputs": [
    {
     "data": {
      "text/html": [
       "<div>\n",
       "<style scoped>\n",
       "    .dataframe tbody tr th:only-of-type {\n",
       "        vertical-align: middle;\n",
       "    }\n",
       "\n",
       "    .dataframe tbody tr th {\n",
       "        vertical-align: top;\n",
       "    }\n",
       "\n",
       "    .dataframe thead th {\n",
       "        text-align: right;\n",
       "    }\n",
       "</style>\n",
       "<table border=\"1\" class=\"dataframe\">\n",
       "  <thead>\n",
       "    <tr style=\"text-align: right;\">\n",
       "      <th></th>\n",
       "      <th>car_ID</th>\n",
       "      <th>symboling</th>\n",
       "      <th>CarName</th>\n",
       "      <th>fueltype</th>\n",
       "      <th>aspiration</th>\n",
       "      <th>doornumber</th>\n",
       "      <th>carbody</th>\n",
       "      <th>drivewheel</th>\n",
       "      <th>enginelocation</th>\n",
       "      <th>wheelbase</th>\n",
       "      <th>carlength</th>\n",
       "      <th>carwidth</th>\n",
       "      <th>carheight</th>\n",
       "      <th>curbweight</th>\n",
       "      <th>enginetype</th>\n",
       "      <th>cylindernumber</th>\n",
       "      <th>enginesize</th>\n",
       "      <th>fuelsystem</th>\n",
       "      <th>boreratio</th>\n",
       "      <th>stroke</th>\n",
       "      <th>compressionratio</th>\n",
       "      <th>horsepower</th>\n",
       "      <th>peakrpm</th>\n",
       "      <th>citympg</th>\n",
       "      <th>highwaympg</th>\n",
       "      <th>price</th>\n",
       "    </tr>\n",
       "  </thead>\n",
       "  <tbody>\n",
       "    <tr>\n",
       "      <th>0</th>\n",
       "      <td>1</td>\n",
       "      <td>3</td>\n",
       "      <td>alfa-romero giulia</td>\n",
       "      <td>gas</td>\n",
       "      <td>std</td>\n",
       "      <td>two</td>\n",
       "      <td>convertible</td>\n",
       "      <td>rwd</td>\n",
       "      <td>front</td>\n",
       "      <td>88.6</td>\n",
       "      <td>168.8</td>\n",
       "      <td>64.1</td>\n",
       "      <td>48.8</td>\n",
       "      <td>2548</td>\n",
       "      <td>dohc</td>\n",
       "      <td>four</td>\n",
       "      <td>130</td>\n",
       "      <td>mpfi</td>\n",
       "      <td>3.47</td>\n",
       "      <td>2.68</td>\n",
       "      <td>9.0</td>\n",
       "      <td>111</td>\n",
       "      <td>5000</td>\n",
       "      <td>21</td>\n",
       "      <td>27</td>\n",
       "      <td>13495.0</td>\n",
       "    </tr>\n",
       "    <tr>\n",
       "      <th>1</th>\n",
       "      <td>2</td>\n",
       "      <td>3</td>\n",
       "      <td>alfa-romero stelvio</td>\n",
       "      <td>gas</td>\n",
       "      <td>std</td>\n",
       "      <td>two</td>\n",
       "      <td>convertible</td>\n",
       "      <td>rwd</td>\n",
       "      <td>front</td>\n",
       "      <td>88.6</td>\n",
       "      <td>168.8</td>\n",
       "      <td>64.1</td>\n",
       "      <td>48.8</td>\n",
       "      <td>2548</td>\n",
       "      <td>dohc</td>\n",
       "      <td>four</td>\n",
       "      <td>130</td>\n",
       "      <td>mpfi</td>\n",
       "      <td>3.47</td>\n",
       "      <td>2.68</td>\n",
       "      <td>9.0</td>\n",
       "      <td>111</td>\n",
       "      <td>5000</td>\n",
       "      <td>21</td>\n",
       "      <td>27</td>\n",
       "      <td>16500.0</td>\n",
       "    </tr>\n",
       "    <tr>\n",
       "      <th>2</th>\n",
       "      <td>3</td>\n",
       "      <td>1</td>\n",
       "      <td>alfa-romero Quadrifoglio</td>\n",
       "      <td>gas</td>\n",
       "      <td>std</td>\n",
       "      <td>two</td>\n",
       "      <td>hatchback</td>\n",
       "      <td>rwd</td>\n",
       "      <td>front</td>\n",
       "      <td>94.5</td>\n",
       "      <td>171.2</td>\n",
       "      <td>65.5</td>\n",
       "      <td>52.4</td>\n",
       "      <td>2823</td>\n",
       "      <td>ohcv</td>\n",
       "      <td>six</td>\n",
       "      <td>152</td>\n",
       "      <td>mpfi</td>\n",
       "      <td>2.68</td>\n",
       "      <td>3.47</td>\n",
       "      <td>9.0</td>\n",
       "      <td>154</td>\n",
       "      <td>5000</td>\n",
       "      <td>19</td>\n",
       "      <td>26</td>\n",
       "      <td>16500.0</td>\n",
       "    </tr>\n",
       "    <tr>\n",
       "      <th>3</th>\n",
       "      <td>4</td>\n",
       "      <td>2</td>\n",
       "      <td>audi 100 ls</td>\n",
       "      <td>gas</td>\n",
       "      <td>std</td>\n",
       "      <td>four</td>\n",
       "      <td>sedan</td>\n",
       "      <td>fwd</td>\n",
       "      <td>front</td>\n",
       "      <td>99.8</td>\n",
       "      <td>176.6</td>\n",
       "      <td>66.2</td>\n",
       "      <td>54.3</td>\n",
       "      <td>2337</td>\n",
       "      <td>ohc</td>\n",
       "      <td>four</td>\n",
       "      <td>109</td>\n",
       "      <td>mpfi</td>\n",
       "      <td>3.19</td>\n",
       "      <td>3.40</td>\n",
       "      <td>10.0</td>\n",
       "      <td>102</td>\n",
       "      <td>5500</td>\n",
       "      <td>24</td>\n",
       "      <td>30</td>\n",
       "      <td>13950.0</td>\n",
       "    </tr>\n",
       "    <tr>\n",
       "      <th>4</th>\n",
       "      <td>5</td>\n",
       "      <td>2</td>\n",
       "      <td>audi 100ls</td>\n",
       "      <td>gas</td>\n",
       "      <td>std</td>\n",
       "      <td>four</td>\n",
       "      <td>sedan</td>\n",
       "      <td>4wd</td>\n",
       "      <td>front</td>\n",
       "      <td>99.4</td>\n",
       "      <td>176.6</td>\n",
       "      <td>66.4</td>\n",
       "      <td>54.3</td>\n",
       "      <td>2824</td>\n",
       "      <td>ohc</td>\n",
       "      <td>five</td>\n",
       "      <td>136</td>\n",
       "      <td>mpfi</td>\n",
       "      <td>3.19</td>\n",
       "      <td>3.40</td>\n",
       "      <td>8.0</td>\n",
       "      <td>115</td>\n",
       "      <td>5500</td>\n",
       "      <td>18</td>\n",
       "      <td>22</td>\n",
       "      <td>17450.0</td>\n",
       "    </tr>\n",
       "  </tbody>\n",
       "</table>\n",
       "</div>"
      ],
      "text/plain": [
       "   car_ID  symboling                   CarName  ... citympg highwaympg    price\n",
       "0       1          3        alfa-romero giulia  ...      21         27  13495.0\n",
       "1       2          3       alfa-romero stelvio  ...      21         27  16500.0\n",
       "2       3          1  alfa-romero Quadrifoglio  ...      19         26  16500.0\n",
       "3       4          2               audi 100 ls  ...      24         30  13950.0\n",
       "4       5          2                audi 100ls  ...      18         22  17450.0\n",
       "\n",
       "[5 rows x 26 columns]"
      ]
     },
     "execution_count": 229,
     "metadata": {
      "tags": []
     },
     "output_type": "execute_result"
    }
   ],
   "source": [
    "df.head()"
   ]
  },
  {
   "cell_type": "code",
   "execution_count": 230,
   "metadata": {
    "id": "qG9kqzpjoWma"
   },
   "outputs": [],
   "source": [
    "#SparseCategoricalCrossentropy "
   ]
  },
  {
   "cell_type": "code",
   "execution_count": 231,
   "metadata": {
    "id": "ew7Q_hwQz__f"
   },
   "outputs": [],
   "source": [
    "df.fillna(df.mean(),inplace=True)"
   ]
  },
  {
   "cell_type": "code",
   "execution_count": 232,
   "metadata": {
    "colab": {
     "base_uri": "https://localhost:8080/"
    },
    "id": "KrUPSlkmxv9u",
    "outputId": "76c17241-6d05-4a0c-ed40-375b6570a060"
   },
   "outputs": [
    {
     "data": {
      "text/plain": [
       "{'1bbl', '2bbl', '4bbl', 'idi', 'mfi', 'mpfi', 'spdi', 'spfi'}"
      ]
     },
     "execution_count": 232,
     "metadata": {
      "tags": []
     },
     "output_type": "execute_result"
    }
   ],
   "source": [
    "set(df.fuelsystem)"
   ]
  },
  {
   "cell_type": "code",
   "execution_count": 233,
   "metadata": {
    "id": "fk4hwbRdx9JT"
   },
   "outputs": [],
   "source": [
    "df.fuelsystem.replace({'1bbl':0, '2bbl':1, '4bbl':2, 'idi':3, 'mfi':4, 'mpfi':5, 'spdi':6, 'spfi':7},inplace=True)"
   ]
  },
  {
   "cell_type": "code",
   "execution_count": 234,
   "metadata": {
    "id": "VOO0IMbJlvA1"
   },
   "outputs": [],
   "source": [
    "df.drop('CarName',inplace=True,axis=1)"
   ]
  },
  {
   "cell_type": "code",
   "execution_count": 235,
   "metadata": {
    "colab": {
     "base_uri": "https://localhost:8080/"
    },
    "id": "TkINL0-mwNW_",
    "outputId": "96972b7e-eac7-48c5-8664-f0a6c5271309"
   },
   "outputs": [
    {
     "data": {
      "text/plain": [
       "{'4wd', 'fwd', 'rwd'}"
      ]
     },
     "execution_count": 235,
     "metadata": {
      "tags": []
     },
     "output_type": "execute_result"
    }
   ],
   "source": [
    "set(df.drivewheel)"
   ]
  },
  {
   "cell_type": "code",
   "execution_count": 236,
   "metadata": {
    "id": "nh6D7jSDwOHz"
   },
   "outputs": [],
   "source": [
    "df.drivewheel.replace({'4wd':0, 'fwd':1, 'rwd':2},inplace=True)"
   ]
  },
  {
   "cell_type": "code",
   "execution_count": 237,
   "metadata": {
    "colab": {
     "base_uri": "https://localhost:8080/"
    },
    "id": "lXwS3b5CwO0r",
    "outputId": "aa053054-f81a-4978-c7d2-25620c41c498"
   },
   "outputs": [
    {
     "data": {
      "text/plain": [
       "{'front', 'rear'}"
      ]
     },
     "execution_count": 237,
     "metadata": {
      "tags": []
     },
     "output_type": "execute_result"
    }
   ],
   "source": [
    "set(df.enginelocation)"
   ]
  },
  {
   "cell_type": "code",
   "execution_count": 238,
   "metadata": {
    "id": "1QVj7XPewPRi"
   },
   "outputs": [],
   "source": [
    "df.enginelocation.replace({'front':0, 'rear':1},inplace=True)"
   ]
  },
  {
   "cell_type": "code",
   "execution_count": 239,
   "metadata": {
    "colab": {
     "base_uri": "https://localhost:8080/"
    },
    "id": "MiDrgN14wPsr",
    "outputId": "ffa2e2fd-37ea-4c37-96bd-90b7a6c05cea"
   },
   "outputs": [
    {
     "data": {
      "text/plain": [
       "{'dohc', 'dohcv', 'l', 'ohc', 'ohcf', 'ohcv', 'rotor'}"
      ]
     },
     "execution_count": 239,
     "metadata": {
      "tags": []
     },
     "output_type": "execute_result"
    }
   ],
   "source": [
    "set(df.enginetype)"
   ]
  },
  {
   "cell_type": "code",
   "execution_count": 240,
   "metadata": {
    "id": "MZTJmbecw9jT"
   },
   "outputs": [],
   "source": [
    "df.enginetype.replace({'dohc':0, 'dohcv':1, 'l':2, 'ohc':3, 'ohcf':4, 'ohcv':5, 'rotor':6},inplace=True)"
   ]
  },
  {
   "cell_type": "code",
   "execution_count": 241,
   "metadata": {
    "colab": {
     "base_uri": "https://localhost:8080/"
    },
    "id": "MKfZ3qXHw9w7",
    "outputId": "00d397f4-7fc2-452b-b4af-109e6ca8bd55"
   },
   "outputs": [
    {
     "data": {
      "text/plain": [
       "{'eight', 'five', 'four', 'six', 'three', 'twelve', 'two'}"
      ]
     },
     "execution_count": 241,
     "metadata": {
      "tags": []
     },
     "output_type": "execute_result"
    }
   ],
   "source": [
    "set(df.cylindernumber)"
   ]
  },
  {
   "cell_type": "code",
   "execution_count": 242,
   "metadata": {
    "id": "1dkXZIIGw-mM"
   },
   "outputs": [],
   "source": [
    "df.cylindernumber.replace({'eight':8, 'five':5, 'four':4, 'six':6, 'three':3, 'twelve':12, 'two':2},inplace=True)"
   ]
  },
  {
   "cell_type": "code",
   "execution_count": 243,
   "metadata": {
    "colab": {
     "base_uri": "https://localhost:8080/"
    },
    "id": "rR7EvjlLr69I",
    "outputId": "03ac43b9-0fa3-4eb1-84c1-e8f962543d08"
   },
   "outputs": [
    {
     "data": {
      "text/plain": [
       "{'diesel', 'gas'}"
      ]
     },
     "execution_count": 243,
     "metadata": {
      "tags": []
     },
     "output_type": "execute_result"
    }
   ],
   "source": [
    "set(df.fueltype)"
   ]
  },
  {
   "cell_type": "code",
   "execution_count": 244,
   "metadata": {
    "colab": {
     "base_uri": "https://localhost:8080/"
    },
    "id": "2SvEAKqAqNAv",
    "outputId": "bee7dc04-7114-48e4-96ea-6e15e55e1842"
   },
   "outputs": [
    {
     "data": {
      "text/plain": [
       "{0, 1}"
      ]
     },
     "execution_count": 244,
     "metadata": {
      "tags": []
     },
     "output_type": "execute_result"
    }
   ],
   "source": [
    "df.fueltype = np.where(df.fueltype == 'diesel',1,0);set(df.fueltype)"
   ]
  },
  {
   "cell_type": "code",
   "execution_count": 245,
   "metadata": {
    "colab": {
     "base_uri": "https://localhost:8080/"
    },
    "id": "WiziGwb-t2pI",
    "outputId": "e534b614-1591-4f95-8c59-8ae17fc11fae"
   },
   "outputs": [
    {
     "data": {
      "text/plain": [
       "{'std', 'turbo'}"
      ]
     },
     "execution_count": 245,
     "metadata": {
      "tags": []
     },
     "output_type": "execute_result"
    }
   ],
   "source": [
    "set(df.aspiration)"
   ]
  },
  {
   "cell_type": "code",
   "execution_count": 246,
   "metadata": {
    "colab": {
     "base_uri": "https://localhost:8080/"
    },
    "id": "2puFVRSIu-xB",
    "outputId": "d4ab2ef7-7002-40da-fa95-5bf8129b28c3"
   },
   "outputs": [
    {
     "data": {
      "text/plain": [
       "{0, 1}"
      ]
     },
     "execution_count": 246,
     "metadata": {
      "tags": []
     },
     "output_type": "execute_result"
    }
   ],
   "source": [
    "df.aspiration = np.where(df.aspiration=='std',1,0); set(df.aspiration)"
   ]
  },
  {
   "cell_type": "code",
   "execution_count": 247,
   "metadata": {
    "colab": {
     "base_uri": "https://localhost:8080/"
    },
    "id": "ZL4sN6FssqPy",
    "outputId": "455779e6-a167-493f-9106-3ae5a5567059"
   },
   "outputs": [
    {
     "data": {
      "text/plain": [
       "{'four', 'two'}"
      ]
     },
     "execution_count": 247,
     "metadata": {
      "tags": []
     },
     "output_type": "execute_result"
    }
   ],
   "source": [
    "set(df.doornumber)"
   ]
  },
  {
   "cell_type": "code",
   "execution_count": 248,
   "metadata": {
    "id": "8wp2jM9svW6h"
   },
   "outputs": [],
   "source": [
    "df.doornumber = np.where(df.doornumber=='four',1,0)"
   ]
  },
  {
   "cell_type": "code",
   "execution_count": 249,
   "metadata": {
    "colab": {
     "base_uri": "https://localhost:8080/"
    },
    "id": "8x6hvWsrvev7",
    "outputId": "1a6765bd-d395-4e95-d6de-e8b05f120a7e"
   },
   "outputs": [
    {
     "data": {
      "text/plain": [
       "{0, 1}"
      ]
     },
     "execution_count": 249,
     "metadata": {
      "tags": []
     },
     "output_type": "execute_result"
    }
   ],
   "source": [
    "set(df.doornumber)"
   ]
  },
  {
   "cell_type": "code",
   "execution_count": 250,
   "metadata": {
    "colab": {
     "base_uri": "https://localhost:8080/"
    },
    "id": "qS3hNtyevhoy",
    "outputId": "18280fe7-ae0c-4633-c98e-5a24bb7dc5b9"
   },
   "outputs": [
    {
     "data": {
      "text/plain": [
       "{'convertible', 'hardtop', 'hatchback', 'sedan', 'wagon'}"
      ]
     },
     "execution_count": 250,
     "metadata": {
      "tags": []
     },
     "output_type": "execute_result"
    }
   ],
   "source": [
    "set(df.carbody)"
   ]
  },
  {
   "cell_type": "code",
   "execution_count": 251,
   "metadata": {
    "id": "GUbg3swCvnWT"
   },
   "outputs": [],
   "source": [
    "df.carbody.replace({'convertible':0, 'hardtop':1, 'hatchback':2, 'sedan':3, 'wagon':4},inplace=True)"
   ]
  },
  {
   "cell_type": "code",
   "execution_count": 252,
   "metadata": {
    "colab": {
     "base_uri": "https://localhost:8080/",
     "height": 224
    },
    "id": "fKutOX6pwC07",
    "outputId": "a1322ac8-5d9f-4616-cf7d-d8e507baab9b"
   },
   "outputs": [
    {
     "data": {
      "text/html": [
       "<div>\n",
       "<style scoped>\n",
       "    .dataframe tbody tr th:only-of-type {\n",
       "        vertical-align: middle;\n",
       "    }\n",
       "\n",
       "    .dataframe tbody tr th {\n",
       "        vertical-align: top;\n",
       "    }\n",
       "\n",
       "    .dataframe thead th {\n",
       "        text-align: right;\n",
       "    }\n",
       "</style>\n",
       "<table border=\"1\" class=\"dataframe\">\n",
       "  <thead>\n",
       "    <tr style=\"text-align: right;\">\n",
       "      <th></th>\n",
       "      <th>car_ID</th>\n",
       "      <th>symboling</th>\n",
       "      <th>fueltype</th>\n",
       "      <th>aspiration</th>\n",
       "      <th>doornumber</th>\n",
       "      <th>carbody</th>\n",
       "      <th>drivewheel</th>\n",
       "      <th>enginelocation</th>\n",
       "      <th>wheelbase</th>\n",
       "      <th>carlength</th>\n",
       "      <th>carwidth</th>\n",
       "      <th>carheight</th>\n",
       "      <th>curbweight</th>\n",
       "      <th>enginetype</th>\n",
       "      <th>cylindernumber</th>\n",
       "      <th>enginesize</th>\n",
       "      <th>fuelsystem</th>\n",
       "      <th>boreratio</th>\n",
       "      <th>stroke</th>\n",
       "      <th>compressionratio</th>\n",
       "      <th>horsepower</th>\n",
       "      <th>peakrpm</th>\n",
       "      <th>citympg</th>\n",
       "      <th>highwaympg</th>\n",
       "      <th>price</th>\n",
       "    </tr>\n",
       "  </thead>\n",
       "  <tbody>\n",
       "    <tr>\n",
       "      <th>0</th>\n",
       "      <td>1</td>\n",
       "      <td>3</td>\n",
       "      <td>0</td>\n",
       "      <td>1</td>\n",
       "      <td>0</td>\n",
       "      <td>0</td>\n",
       "      <td>2</td>\n",
       "      <td>0</td>\n",
       "      <td>88.6</td>\n",
       "      <td>168.8</td>\n",
       "      <td>64.1</td>\n",
       "      <td>48.8</td>\n",
       "      <td>2548</td>\n",
       "      <td>0</td>\n",
       "      <td>4</td>\n",
       "      <td>130</td>\n",
       "      <td>5</td>\n",
       "      <td>3.47</td>\n",
       "      <td>2.68</td>\n",
       "      <td>9.0</td>\n",
       "      <td>111</td>\n",
       "      <td>5000</td>\n",
       "      <td>21</td>\n",
       "      <td>27</td>\n",
       "      <td>13495.0</td>\n",
       "    </tr>\n",
       "    <tr>\n",
       "      <th>1</th>\n",
       "      <td>2</td>\n",
       "      <td>3</td>\n",
       "      <td>0</td>\n",
       "      <td>1</td>\n",
       "      <td>0</td>\n",
       "      <td>0</td>\n",
       "      <td>2</td>\n",
       "      <td>0</td>\n",
       "      <td>88.6</td>\n",
       "      <td>168.8</td>\n",
       "      <td>64.1</td>\n",
       "      <td>48.8</td>\n",
       "      <td>2548</td>\n",
       "      <td>0</td>\n",
       "      <td>4</td>\n",
       "      <td>130</td>\n",
       "      <td>5</td>\n",
       "      <td>3.47</td>\n",
       "      <td>2.68</td>\n",
       "      <td>9.0</td>\n",
       "      <td>111</td>\n",
       "      <td>5000</td>\n",
       "      <td>21</td>\n",
       "      <td>27</td>\n",
       "      <td>16500.0</td>\n",
       "    </tr>\n",
       "    <tr>\n",
       "      <th>2</th>\n",
       "      <td>3</td>\n",
       "      <td>1</td>\n",
       "      <td>0</td>\n",
       "      <td>1</td>\n",
       "      <td>0</td>\n",
       "      <td>2</td>\n",
       "      <td>2</td>\n",
       "      <td>0</td>\n",
       "      <td>94.5</td>\n",
       "      <td>171.2</td>\n",
       "      <td>65.5</td>\n",
       "      <td>52.4</td>\n",
       "      <td>2823</td>\n",
       "      <td>5</td>\n",
       "      <td>6</td>\n",
       "      <td>152</td>\n",
       "      <td>5</td>\n",
       "      <td>2.68</td>\n",
       "      <td>3.47</td>\n",
       "      <td>9.0</td>\n",
       "      <td>154</td>\n",
       "      <td>5000</td>\n",
       "      <td>19</td>\n",
       "      <td>26</td>\n",
       "      <td>16500.0</td>\n",
       "    </tr>\n",
       "    <tr>\n",
       "      <th>3</th>\n",
       "      <td>4</td>\n",
       "      <td>2</td>\n",
       "      <td>0</td>\n",
       "      <td>1</td>\n",
       "      <td>1</td>\n",
       "      <td>3</td>\n",
       "      <td>1</td>\n",
       "      <td>0</td>\n",
       "      <td>99.8</td>\n",
       "      <td>176.6</td>\n",
       "      <td>66.2</td>\n",
       "      <td>54.3</td>\n",
       "      <td>2337</td>\n",
       "      <td>3</td>\n",
       "      <td>4</td>\n",
       "      <td>109</td>\n",
       "      <td>5</td>\n",
       "      <td>3.19</td>\n",
       "      <td>3.40</td>\n",
       "      <td>10.0</td>\n",
       "      <td>102</td>\n",
       "      <td>5500</td>\n",
       "      <td>24</td>\n",
       "      <td>30</td>\n",
       "      <td>13950.0</td>\n",
       "    </tr>\n",
       "    <tr>\n",
       "      <th>4</th>\n",
       "      <td>5</td>\n",
       "      <td>2</td>\n",
       "      <td>0</td>\n",
       "      <td>1</td>\n",
       "      <td>1</td>\n",
       "      <td>3</td>\n",
       "      <td>0</td>\n",
       "      <td>0</td>\n",
       "      <td>99.4</td>\n",
       "      <td>176.6</td>\n",
       "      <td>66.4</td>\n",
       "      <td>54.3</td>\n",
       "      <td>2824</td>\n",
       "      <td>3</td>\n",
       "      <td>5</td>\n",
       "      <td>136</td>\n",
       "      <td>5</td>\n",
       "      <td>3.19</td>\n",
       "      <td>3.40</td>\n",
       "      <td>8.0</td>\n",
       "      <td>115</td>\n",
       "      <td>5500</td>\n",
       "      <td>18</td>\n",
       "      <td>22</td>\n",
       "      <td>17450.0</td>\n",
       "    </tr>\n",
       "  </tbody>\n",
       "</table>\n",
       "</div>"
      ],
      "text/plain": [
       "   car_ID  symboling  fueltype  ...  citympg  highwaympg    price\n",
       "0       1          3         0  ...       21          27  13495.0\n",
       "1       2          3         0  ...       21          27  16500.0\n",
       "2       3          1         0  ...       19          26  16500.0\n",
       "3       4          2         0  ...       24          30  13950.0\n",
       "4       5          2         0  ...       18          22  17450.0\n",
       "\n",
       "[5 rows x 25 columns]"
      ]
     },
     "execution_count": 252,
     "metadata": {
      "tags": []
     },
     "output_type": "execute_result"
    }
   ],
   "source": [
    "df.head()"
   ]
  },
  {
   "cell_type": "code",
   "execution_count": 253,
   "metadata": {
    "id": "wB7rR2GW0fB8"
   },
   "outputs": [],
   "source": [
    "df.drop('car_ID',inplace=True,axis=1)"
   ]
  },
  {
   "cell_type": "code",
   "execution_count": 254,
   "metadata": {
    "colab": {
     "base_uri": "https://localhost:8080/",
     "height": 224
    },
    "id": "Y0XRDLq_0uGM",
    "outputId": "3d60790a-5a95-4e40-a87d-0fb1a3992cbc"
   },
   "outputs": [
    {
     "data": {
      "text/html": [
       "<div>\n",
       "<style scoped>\n",
       "    .dataframe tbody tr th:only-of-type {\n",
       "        vertical-align: middle;\n",
       "    }\n",
       "\n",
       "    .dataframe tbody tr th {\n",
       "        vertical-align: top;\n",
       "    }\n",
       "\n",
       "    .dataframe thead th {\n",
       "        text-align: right;\n",
       "    }\n",
       "</style>\n",
       "<table border=\"1\" class=\"dataframe\">\n",
       "  <thead>\n",
       "    <tr style=\"text-align: right;\">\n",
       "      <th></th>\n",
       "      <th>symboling</th>\n",
       "      <th>fueltype</th>\n",
       "      <th>aspiration</th>\n",
       "      <th>doornumber</th>\n",
       "      <th>carbody</th>\n",
       "      <th>drivewheel</th>\n",
       "      <th>enginelocation</th>\n",
       "      <th>wheelbase</th>\n",
       "      <th>carlength</th>\n",
       "      <th>carwidth</th>\n",
       "      <th>carheight</th>\n",
       "      <th>curbweight</th>\n",
       "      <th>enginetype</th>\n",
       "      <th>cylindernumber</th>\n",
       "      <th>enginesize</th>\n",
       "      <th>fuelsystem</th>\n",
       "      <th>boreratio</th>\n",
       "      <th>stroke</th>\n",
       "      <th>compressionratio</th>\n",
       "      <th>horsepower</th>\n",
       "      <th>peakrpm</th>\n",
       "      <th>citympg</th>\n",
       "      <th>highwaympg</th>\n",
       "      <th>price</th>\n",
       "    </tr>\n",
       "  </thead>\n",
       "  <tbody>\n",
       "    <tr>\n",
       "      <th>0</th>\n",
       "      <td>3</td>\n",
       "      <td>0</td>\n",
       "      <td>1</td>\n",
       "      <td>0</td>\n",
       "      <td>0</td>\n",
       "      <td>2</td>\n",
       "      <td>0</td>\n",
       "      <td>88.6</td>\n",
       "      <td>168.8</td>\n",
       "      <td>64.1</td>\n",
       "      <td>48.8</td>\n",
       "      <td>2548</td>\n",
       "      <td>0</td>\n",
       "      <td>4</td>\n",
       "      <td>130</td>\n",
       "      <td>5</td>\n",
       "      <td>3.47</td>\n",
       "      <td>2.68</td>\n",
       "      <td>9.0</td>\n",
       "      <td>111</td>\n",
       "      <td>5000</td>\n",
       "      <td>21</td>\n",
       "      <td>27</td>\n",
       "      <td>13495.0</td>\n",
       "    </tr>\n",
       "    <tr>\n",
       "      <th>1</th>\n",
       "      <td>3</td>\n",
       "      <td>0</td>\n",
       "      <td>1</td>\n",
       "      <td>0</td>\n",
       "      <td>0</td>\n",
       "      <td>2</td>\n",
       "      <td>0</td>\n",
       "      <td>88.6</td>\n",
       "      <td>168.8</td>\n",
       "      <td>64.1</td>\n",
       "      <td>48.8</td>\n",
       "      <td>2548</td>\n",
       "      <td>0</td>\n",
       "      <td>4</td>\n",
       "      <td>130</td>\n",
       "      <td>5</td>\n",
       "      <td>3.47</td>\n",
       "      <td>2.68</td>\n",
       "      <td>9.0</td>\n",
       "      <td>111</td>\n",
       "      <td>5000</td>\n",
       "      <td>21</td>\n",
       "      <td>27</td>\n",
       "      <td>16500.0</td>\n",
       "    </tr>\n",
       "    <tr>\n",
       "      <th>2</th>\n",
       "      <td>1</td>\n",
       "      <td>0</td>\n",
       "      <td>1</td>\n",
       "      <td>0</td>\n",
       "      <td>2</td>\n",
       "      <td>2</td>\n",
       "      <td>0</td>\n",
       "      <td>94.5</td>\n",
       "      <td>171.2</td>\n",
       "      <td>65.5</td>\n",
       "      <td>52.4</td>\n",
       "      <td>2823</td>\n",
       "      <td>5</td>\n",
       "      <td>6</td>\n",
       "      <td>152</td>\n",
       "      <td>5</td>\n",
       "      <td>2.68</td>\n",
       "      <td>3.47</td>\n",
       "      <td>9.0</td>\n",
       "      <td>154</td>\n",
       "      <td>5000</td>\n",
       "      <td>19</td>\n",
       "      <td>26</td>\n",
       "      <td>16500.0</td>\n",
       "    </tr>\n",
       "    <tr>\n",
       "      <th>3</th>\n",
       "      <td>2</td>\n",
       "      <td>0</td>\n",
       "      <td>1</td>\n",
       "      <td>1</td>\n",
       "      <td>3</td>\n",
       "      <td>1</td>\n",
       "      <td>0</td>\n",
       "      <td>99.8</td>\n",
       "      <td>176.6</td>\n",
       "      <td>66.2</td>\n",
       "      <td>54.3</td>\n",
       "      <td>2337</td>\n",
       "      <td>3</td>\n",
       "      <td>4</td>\n",
       "      <td>109</td>\n",
       "      <td>5</td>\n",
       "      <td>3.19</td>\n",
       "      <td>3.40</td>\n",
       "      <td>10.0</td>\n",
       "      <td>102</td>\n",
       "      <td>5500</td>\n",
       "      <td>24</td>\n",
       "      <td>30</td>\n",
       "      <td>13950.0</td>\n",
       "    </tr>\n",
       "    <tr>\n",
       "      <th>4</th>\n",
       "      <td>2</td>\n",
       "      <td>0</td>\n",
       "      <td>1</td>\n",
       "      <td>1</td>\n",
       "      <td>3</td>\n",
       "      <td>0</td>\n",
       "      <td>0</td>\n",
       "      <td>99.4</td>\n",
       "      <td>176.6</td>\n",
       "      <td>66.4</td>\n",
       "      <td>54.3</td>\n",
       "      <td>2824</td>\n",
       "      <td>3</td>\n",
       "      <td>5</td>\n",
       "      <td>136</td>\n",
       "      <td>5</td>\n",
       "      <td>3.19</td>\n",
       "      <td>3.40</td>\n",
       "      <td>8.0</td>\n",
       "      <td>115</td>\n",
       "      <td>5500</td>\n",
       "      <td>18</td>\n",
       "      <td>22</td>\n",
       "      <td>17450.0</td>\n",
       "    </tr>\n",
       "  </tbody>\n",
       "</table>\n",
       "</div>"
      ],
      "text/plain": [
       "   symboling  fueltype  aspiration  ...  citympg  highwaympg    price\n",
       "0          3         0           1  ...       21          27  13495.0\n",
       "1          3         0           1  ...       21          27  16500.0\n",
       "2          1         0           1  ...       19          26  16500.0\n",
       "3          2         0           1  ...       24          30  13950.0\n",
       "4          2         0           1  ...       18          22  17450.0\n",
       "\n",
       "[5 rows x 24 columns]"
      ]
     },
     "execution_count": 254,
     "metadata": {
      "tags": []
     },
     "output_type": "execute_result"
    }
   ],
   "source": [
    "df.head()"
   ]
  },
  {
   "cell_type": "code",
   "execution_count": 255,
   "metadata": {
    "colab": {
     "base_uri": "https://localhost:8080/"
    },
    "id": "dg1VWL0c08K8",
    "outputId": "b976fe30-9a4e-4e4f-eab0-88f8d95654e3"
   },
   "outputs": [
    {
     "data": {
      "text/plain": [
       "0    13495.0\n",
       "1    16500.0\n",
       "2    16500.0\n",
       "3    13950.0\n",
       "4    17450.0\n",
       "Name: price, dtype: float64"
      ]
     },
     "execution_count": 255,
     "metadata": {
      "tags": []
     },
     "output_type": "execute_result"
    }
   ],
   "source": [
    "featuresDf,labelDf = df[df.columns[:-1]],df[df.columns[-1]]\n",
    "labels.head()"
   ]
  },
  {
   "cell_type": "code",
   "execution_count": 256,
   "metadata": {
    "id": "KbuXQRXD1P4M"
   },
   "outputs": [],
   "source": [
    "totalSize = len(df)\n",
    "trainingSize = totalSize * 5 // 10\n",
    "validationSize = totalSize * 2 // 10\n",
    "testSize = totalSize - trainingSize - validationSize"
   ]
  },
  {
   "cell_type": "code",
   "execution_count": 268,
   "metadata": {
    "id": "TUSIj5Rv2W_O"
   },
   "outputs": [],
   "source": [
    "trainingData, trainingLabel = featuresDf[:trainingSize],labelDf[:trainingSize]\n",
    "validationData, validationLabel = featuresDf[trainingSize:trainingSize+validationSize],labelDf[trainingSize:trainingSize+validationSize]\n",
    "testData,testLabel = featuresDf[trainingSize+validationSize:],labelDf[trainingSize+validationSize:]"
   ]
  },
  {
   "cell_type": "code",
   "execution_count": 269,
   "metadata": {
    "id": "Sn8QnbDN7HQT"
   },
   "outputs": [],
   "source": [
    "columns = ['wheelbase', 'carlength', 'carwidth', 'carheight', 'curbweight', 'enginesize', 'boreratio', 'stroke',\n",
    " 'compressionratio', 'horsepower', 'peakrpm', 'citympg', 'highwaympg']"
   ]
  },
  {
   "cell_type": "code",
   "execution_count": 270,
   "metadata": {
    "id": "NDCbcMES2jv8"
   },
   "outputs": [],
   "source": [
    "tmpTraingDf =trainingData[columns]\n",
    "tmpValDf = validationData[columns]\n",
    "tmpTestDf = testData[columns]"
   ]
  },
  {
   "cell_type": "code",
   "execution_count": 271,
   "metadata": {
    "id": "808ouBqZ6M0-"
   },
   "outputs": [],
   "source": [
    "mean = trainingData.mean()\n",
    "tmpTraingDf -= mean\n",
    "tmpValDf -= mean\n",
    "tmpTestDf -= mean\n",
    "st = tmpTraingDf.std()\n",
    "tmpTraingDf /= st\n",
    "tmpValDf /= st\n",
    "tmpTestDf /= st"
   ]
  },
  {
   "cell_type": "code",
   "execution_count": 272,
   "metadata": {
    "id": "6ufOrQh7BErm"
   },
   "outputs": [],
   "source": []
  },
  {
   "cell_type": "code",
   "execution_count": 273,
   "metadata": {
    "colab": {
     "base_uri": "https://localhost:8080/"
    },
    "id": "-5CZb9iN7kVm",
    "outputId": "952bdcc4-3517-4171-d4ea-75a389de493b"
   },
   "outputs": [
    {
     "name": "stderr",
     "output_type": "stream",
     "text": [
      "/usr/local/lib/python3.7/dist-packages/pandas/core/frame.py:3069: SettingWithCopyWarning: \n",
      "A value is trying to be set on a copy of a slice from a DataFrame.\n",
      "Try using .loc[row_indexer,col_indexer] = value instead\n",
      "\n",
      "See the caveats in the documentation: https://pandas.pydata.org/pandas-docs/stable/user_guide/indexing.html#returning-a-view-versus-a-copy\n",
      "  self[k1] = value[k2]\n"
     ]
    }
   ],
   "source": [
    "trainingData[columns] = tmpTraingDf\n",
    "validationData[columns] = tmpValDf\n",
    "testData[columns] = tmpTestDf"
   ]
  },
  {
   "cell_type": "code",
   "execution_count": 279,
   "metadata": {
    "id": "M7NB66AG93Xd"
   },
   "outputs": [],
   "source": [
    "model = models.Sequential()\n",
    "model.add(layers.Dense(10, activation='tanh', input_shape=(len(trainingData.columns),)))\n",
    "model.add(layers.Dense(11, activation='relu'))\n",
    "model.add(layers.Dense(6, activation='tanh'))\n",
    "model.add(layers.Dense(1))\n",
    "model.compile(optimizer='rmsprop', loss='mse', metrics=['mae'])"
   ]
  },
  {
   "cell_type": "code",
   "execution_count": 280,
   "metadata": {
    "colab": {
     "base_uri": "https://localhost:8080/"
    },
    "id": "BviEHw-WAt5w",
    "outputId": "6817d4bd-ca6d-40f4-b531-2c58f982a8cc"
   },
   "outputs": [
    {
     "name": "stdout",
     "output_type": "stream",
     "text": [
      "Epoch 1/100\n",
      "4/4 [==============================] - 1s 3ms/step - loss: 264144931.2000 - mae: 13424.9617\n",
      "Epoch 2/100\n",
      "4/4 [==============================] - 0s 2ms/step - loss: 244087516.8000 - mae: 12939.8035\n",
      "Epoch 3/100\n",
      "4/4 [==============================] - 0s 5ms/step - loss: 282414726.4000 - mae: 13696.4004\n",
      "Epoch 4/100\n",
      "4/4 [==============================] - 0s 2ms/step - loss: 297157177.6000 - mae: 14165.3781\n",
      "Epoch 5/100\n",
      "4/4 [==============================] - 0s 3ms/step - loss: 276708979.2000 - mae: 13661.7328\n",
      "Epoch 6/100\n",
      "4/4 [==============================] - 0s 3ms/step - loss: 267024476.8000 - mae: 13590.7689\n",
      "Epoch 7/100\n",
      "4/4 [==============================] - 0s 3ms/step - loss: 263025680.0000 - mae: 13373.1314\n",
      "Epoch 8/100\n",
      "4/4 [==============================] - 0s 2ms/step - loss: 274008281.6000 - mae: 13630.6557\n",
      "Epoch 9/100\n",
      "4/4 [==============================] - 0s 4ms/step - loss: 291358553.6000 - mae: 14054.2496\n",
      "Epoch 10/100\n",
      "4/4 [==============================] - 0s 4ms/step - loss: 280885552.0000 - mae: 13855.6379\n",
      "Epoch 11/100\n",
      "4/4 [==============================] - 0s 3ms/step - loss: 270482796.8000 - mae: 13624.6977\n",
      "Epoch 12/100\n",
      "4/4 [==============================] - 0s 2ms/step - loss: 288622387.2000 - mae: 13914.4014\n",
      "Epoch 13/100\n",
      "4/4 [==============================] - 0s 2ms/step - loss: 278654886.4000 - mae: 13636.5467\n",
      "Epoch 14/100\n",
      "4/4 [==============================] - 0s 2ms/step - loss: 298230777.6000 - mae: 14173.0266\n",
      "Epoch 15/100\n",
      "4/4 [==============================] - 0s 2ms/step - loss: 299774444.8000 - mae: 14304.6887\n",
      "Epoch 16/100\n",
      "4/4 [==============================] - 0s 3ms/step - loss: 274527174.4000 - mae: 13725.2051\n",
      "Epoch 17/100\n",
      "4/4 [==============================] - 0s 5ms/step - loss: 274483020.8000 - mae: 13680.2529\n",
      "Epoch 18/100\n",
      "4/4 [==============================] - 0s 2ms/step - loss: 276561753.6000 - mae: 13783.5963\n",
      "Epoch 19/100\n",
      "4/4 [==============================] - 0s 3ms/step - loss: 285307712.0000 - mae: 13969.4658\n",
      "Epoch 20/100\n",
      "4/4 [==============================] - 0s 2ms/step - loss: 280306646.4000 - mae: 13773.7893\n",
      "Epoch 21/100\n",
      "4/4 [==============================] - 0s 2ms/step - loss: 264955478.4000 - mae: 13414.5207\n",
      "Epoch 22/100\n",
      "4/4 [==============================] - 0s 2ms/step - loss: 286566406.4000 - mae: 13941.8805\n",
      "Epoch 23/100\n",
      "4/4 [==============================] - 0s 4ms/step - loss: 299347315.2000 - mae: 14310.3711\n",
      "Epoch 24/100\n",
      "4/4 [==============================] - 0s 2ms/step - loss: 284739769.6000 - mae: 13909.6338\n",
      "Epoch 25/100\n",
      "4/4 [==============================] - 0s 4ms/step - loss: 272568128.0000 - mae: 13565.3615\n",
      "Epoch 26/100\n",
      "4/4 [==============================] - 0s 3ms/step - loss: 280809894.4000 - mae: 13826.6904\n",
      "Epoch 27/100\n",
      "4/4 [==============================] - 0s 2ms/step - loss: 292252448.0000 - mae: 14092.5191\n",
      "Epoch 28/100\n",
      "4/4 [==============================] - 0s 2ms/step - loss: 277743414.4000 - mae: 13812.3668\n",
      "Epoch 29/100\n",
      "4/4 [==============================] - 0s 4ms/step - loss: 251175545.6000 - mae: 13182.9395\n",
      "Epoch 30/100\n",
      "4/4 [==============================] - 0s 3ms/step - loss: 250132483.2000 - mae: 13018.5295\n",
      "Epoch 31/100\n",
      "4/4 [==============================] - 0s 2ms/step - loss: 281013219.2000 - mae: 13813.9676\n",
      "Epoch 32/100\n",
      "4/4 [==============================] - 0s 4ms/step - loss: 306888512.0000 - mae: 14220.2023\n",
      "Epoch 33/100\n",
      "4/4 [==============================] - 0s 3ms/step - loss: 281109286.4000 - mae: 13809.5754\n",
      "Epoch 34/100\n",
      "4/4 [==============================] - 0s 2ms/step - loss: 286792985.6000 - mae: 14007.5779\n",
      "Epoch 35/100\n",
      "4/4 [==============================] - 0s 3ms/step - loss: 269345478.4000 - mae: 13529.1789\n",
      "Epoch 36/100\n",
      "4/4 [==============================] - 0s 2ms/step - loss: 277324972.8000 - mae: 13661.2875\n",
      "Epoch 37/100\n",
      "4/4 [==============================] - 0s 2ms/step - loss: 307530950.4000 - mae: 14315.8535\n",
      "Epoch 38/100\n",
      "4/4 [==============================] - 0s 2ms/step - loss: 289691296.0000 - mae: 14052.7262\n",
      "Epoch 39/100\n",
      "4/4 [==============================] - 0s 3ms/step - loss: 303733318.4000 - mae: 14291.7828\n",
      "Epoch 40/100\n",
      "4/4 [==============================] - 0s 3ms/step - loss: 284381907.2000 - mae: 13732.0814\n",
      "Epoch 41/100\n",
      "4/4 [==============================] - 0s 4ms/step - loss: 272155686.4000 - mae: 13703.5857\n",
      "Epoch 42/100\n",
      "4/4 [==============================] - 0s 4ms/step - loss: 272958211.2000 - mae: 13673.5193\n",
      "Epoch 43/100\n",
      "4/4 [==============================] - 0s 2ms/step - loss: 287175097.6000 - mae: 13912.1367\n",
      "Epoch 44/100\n",
      "4/4 [==============================] - 0s 3ms/step - loss: 289712057.6000 - mae: 13935.3592\n",
      "Epoch 45/100\n",
      "4/4 [==============================] - 0s 4ms/step - loss: 276102809.6000 - mae: 13502.8855\n",
      "Epoch 46/100\n",
      "4/4 [==============================] - 0s 3ms/step - loss: 281338416.0000 - mae: 13875.3189\n",
      "Epoch 47/100\n",
      "4/4 [==============================] - 0s 4ms/step - loss: 286945804.8000 - mae: 14106.7301\n",
      "Epoch 48/100\n",
      "4/4 [==============================] - 0s 2ms/step - loss: 297898963.2000 - mae: 14133.8031\n",
      "Epoch 49/100\n",
      "4/4 [==============================] - 0s 3ms/step - loss: 249934009.6000 - mae: 13038.4260\n",
      "Epoch 50/100\n",
      "4/4 [==============================] - 0s 4ms/step - loss: 282926873.6000 - mae: 13967.9910\n",
      "Epoch 51/100\n",
      "4/4 [==============================] - 0s 4ms/step - loss: 318643475.2000 - mae: 14643.8010\n",
      "Epoch 52/100\n",
      "4/4 [==============================] - 0s 2ms/step - loss: 293076524.8000 - mae: 14063.4488\n",
      "Epoch 53/100\n",
      "4/4 [==============================] - 0s 5ms/step - loss: 263509190.4000 - mae: 13559.8662\n",
      "Epoch 54/100\n",
      "4/4 [==============================] - 0s 3ms/step - loss: 283532192.0000 - mae: 13943.5402\n",
      "Epoch 55/100\n",
      "4/4 [==============================] - 0s 4ms/step - loss: 271684118.4000 - mae: 13632.1088\n",
      "Epoch 56/100\n",
      "4/4 [==============================] - 0s 2ms/step - loss: 268064336.0000 - mae: 13490.4861\n",
      "Epoch 57/100\n",
      "4/4 [==============================] - 0s 3ms/step - loss: 310206444.8000 - mae: 14469.3041\n",
      "Epoch 58/100\n",
      "4/4 [==============================] - 0s 2ms/step - loss: 247848620.8000 - mae: 13060.5229\n",
      "Epoch 59/100\n",
      "4/4 [==============================] - 0s 3ms/step - loss: 269672492.8000 - mae: 13431.4449\n",
      "Epoch 60/100\n",
      "4/4 [==============================] - 0s 3ms/step - loss: 248078544.0000 - mae: 13095.6213\n",
      "Epoch 61/100\n",
      "4/4 [==============================] - 0s 2ms/step - loss: 288802041.6000 - mae: 14106.4615\n",
      "Epoch 62/100\n",
      "4/4 [==============================] - 0s 3ms/step - loss: 289258380.8000 - mae: 13946.2920\n",
      "Epoch 63/100\n",
      "4/4 [==============================] - 0s 4ms/step - loss: 278726496.0000 - mae: 13715.1264\n",
      "Epoch 64/100\n",
      "4/4 [==============================] - 0s 3ms/step - loss: 254926032.0000 - mae: 13220.4666\n",
      "Epoch 65/100\n",
      "4/4 [==============================] - 0s 2ms/step - loss: 262754476.8000 - mae: 13380.8316\n",
      "Epoch 66/100\n",
      "4/4 [==============================] - 0s 2ms/step - loss: 277522611.2000 - mae: 13705.3869\n",
      "Epoch 67/100\n",
      "4/4 [==============================] - 0s 2ms/step - loss: 289000902.4000 - mae: 14073.0758\n",
      "Epoch 68/100\n",
      "4/4 [==============================] - 0s 2ms/step - loss: 265450752.0000 - mae: 13373.1549\n",
      "Epoch 69/100\n",
      "4/4 [==============================] - 0s 2ms/step - loss: 308679590.4000 - mae: 14347.9715\n",
      "Epoch 70/100\n",
      "4/4 [==============================] - 0s 2ms/step - loss: 236595948.8000 - mae: 12899.4686\n",
      "Epoch 71/100\n",
      "4/4 [==============================] - 0s 2ms/step - loss: 285163955.2000 - mae: 13847.1928\n",
      "Epoch 72/100\n",
      "4/4 [==============================] - 0s 3ms/step - loss: 288237792.0000 - mae: 14009.8645\n",
      "Epoch 73/100\n",
      "4/4 [==============================] - 0s 3ms/step - loss: 265470345.6000 - mae: 13498.5432\n",
      "Epoch 74/100\n",
      "4/4 [==============================] - 0s 2ms/step - loss: 309932537.6000 - mae: 14309.4955\n",
      "Epoch 75/100\n",
      "4/4 [==============================] - 0s 4ms/step - loss: 292390060.8000 - mae: 14230.7482\n",
      "Epoch 76/100\n",
      "4/4 [==============================] - 0s 4ms/step - loss: 269101468.8000 - mae: 13558.6008\n",
      "Epoch 77/100\n",
      "4/4 [==============================] - 0s 3ms/step - loss: 257825798.4000 - mae: 13249.9475\n",
      "Epoch 78/100\n",
      "4/4 [==============================] - 0s 2ms/step - loss: 302813907.2000 - mae: 14364.5119\n",
      "Epoch 79/100\n",
      "4/4 [==============================] - 0s 3ms/step - loss: 293025990.4000 - mae: 14104.8623\n",
      "Epoch 80/100\n",
      "4/4 [==============================] - 0s 4ms/step - loss: 274184630.4000 - mae: 13609.5141\n",
      "Epoch 81/100\n",
      "4/4 [==============================] - 0s 2ms/step - loss: 301436390.4000 - mae: 14155.0225\n",
      "Epoch 82/100\n",
      "4/4 [==============================] - 0s 3ms/step - loss: 297673510.4000 - mae: 14236.6115\n",
      "Epoch 83/100\n",
      "4/4 [==============================] - 0s 6ms/step - loss: 274870793.6000 - mae: 13646.6314\n",
      "Epoch 84/100\n",
      "4/4 [==============================] - 0s 4ms/step - loss: 258414899.2000 - mae: 13301.4918\n",
      "Epoch 85/100\n",
      "4/4 [==============================] - 0s 3ms/step - loss: 269953068.8000 - mae: 13633.3645\n",
      "Epoch 86/100\n",
      "4/4 [==============================] - 0s 4ms/step - loss: 251927500.8000 - mae: 13113.4039\n",
      "Epoch 87/100\n",
      "4/4 [==============================] - 0s 3ms/step - loss: 279141852.8000 - mae: 13881.1381\n",
      "Epoch 88/100\n",
      "4/4 [==============================] - 0s 3ms/step - loss: 283184352.0000 - mae: 13872.3639\n",
      "Epoch 89/100\n",
      "4/4 [==============================] - 0s 2ms/step - loss: 274992268.8000 - mae: 13726.2850\n",
      "Epoch 90/100\n",
      "4/4 [==============================] - 0s 3ms/step - loss: 297157337.6000 - mae: 14244.5748\n",
      "Epoch 91/100\n",
      "4/4 [==============================] - 0s 3ms/step - loss: 298926259.2000 - mae: 14179.6020\n",
      "Epoch 92/100\n",
      "4/4 [==============================] - 0s 3ms/step - loss: 254089635.2000 - mae: 13300.6619\n",
      "Epoch 93/100\n",
      "4/4 [==============================] - 0s 3ms/step - loss: 272640873.6000 - mae: 13555.4279\n",
      "Epoch 94/100\n",
      "4/4 [==============================] - 0s 3ms/step - loss: 251666736.0000 - mae: 13063.5215\n",
      "Epoch 95/100\n",
      "4/4 [==============================] - 0s 4ms/step - loss: 265710198.4000 - mae: 13308.1088\n",
      "Epoch 96/100\n",
      "4/4 [==============================] - 0s 3ms/step - loss: 287408073.6000 - mae: 14004.7045\n",
      "Epoch 97/100\n",
      "4/4 [==============================] - 0s 3ms/step - loss: 294442579.2000 - mae: 14178.8893\n",
      "Epoch 98/100\n",
      "4/4 [==============================] - 0s 4ms/step - loss: 272888505.6000 - mae: 13555.8398\n",
      "Epoch 99/100\n",
      "4/4 [==============================] - 0s 4ms/step - loss: 282241395.2000 - mae: 13725.5334\n",
      "Epoch 100/100\n",
      "4/4 [==============================] - 0s 3ms/step - loss: 295079456.0000 - mae: 13975.8051\n"
     ]
    },
    {
     "data": {
      "text/plain": [
       "<tensorflow.python.keras.callbacks.History at 0x7fe3e106c550>"
      ]
     },
     "execution_count": 280,
     "metadata": {
      "tags": []
     },
     "output_type": "execute_result"
    }
   ],
   "source": [
    "model.fit(trainingData,trainingLabel,epochs=100)"
   ]
  },
  {
   "cell_type": "code",
   "execution_count": 281,
   "metadata": {
    "colab": {
     "base_uri": "https://localhost:8080/"
    },
    "id": "XTKgXIOSAxo4",
    "outputId": "56a19806-fd67-4ceb-b7d1-646ffc7886d2"
   },
   "outputs": [
    {
     "name": "stdout",
     "output_type": "stream",
     "text": [
      "2/2 [==============================] - 0s 7ms/step - loss: 280306272.0000 - mae: 14910.5654\n"
     ]
    },
    {
     "data": {
      "text/plain": [
       "[280306272.0, 14910.5654296875]"
      ]
     },
     "execution_count": 281,
     "metadata": {
      "tags": []
     },
     "output_type": "execute_result"
    }
   ],
   "source": [
    "model.evaluate(validationData,validationLabel)"
   ]
  },
  {
   "cell_type": "code",
   "execution_count": 282,
   "metadata": {
    "colab": {
     "base_uri": "https://localhost:8080/"
    },
    "id": "YXyzn2KeB9gf",
    "outputId": "be44cc1c-6f2a-4d8e-8033-3b5d9da27bf3"
   },
   "outputs": [
    {
     "name": "stdout",
     "output_type": "stream",
     "text": [
      "2/2 [==============================] - 0s 6ms/step - loss: 146464704.0000 - mae: 11346.7520\n"
     ]
    },
    {
     "data": {
      "text/plain": [
       "[146464704.0, 11346.751953125]"
      ]
     },
     "execution_count": 282,
     "metadata": {
      "tags": []
     },
     "output_type": "execute_result"
    }
   ],
   "source": [
    "model.evaluate(testData,testLabel)"
   ]
  },
  {
   "cell_type": "code",
   "execution_count": null,
   "metadata": {
    "id": "0IAHbTlVCF7Q"
   },
   "outputs": [],
   "source": []
  }
 ],
 "metadata": {
  "colab": {
   "name": "Car Price Prediction assignment.ipynb",
   "provenance": []
  },
  "kernelspec": {
   "display_name": "Python 3",
   "language": "python",
   "name": "python3"
  },
  "language_info": {
   "codemirror_mode": {
    "name": "ipython",
    "version": 3
   },
   "file_extension": ".py",
   "mimetype": "text/x-python",
   "name": "python",
   "nbconvert_exporter": "python",
   "pygments_lexer": "ipython3",
   "version": "3.6.5"
  }
 },
 "nbformat": 4,
 "nbformat_minor": 1
}
