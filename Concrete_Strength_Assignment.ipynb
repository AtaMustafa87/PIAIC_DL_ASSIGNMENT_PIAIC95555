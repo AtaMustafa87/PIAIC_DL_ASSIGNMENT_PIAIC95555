{
  "nbformat": 4,
  "nbformat_minor": 0,
  "metadata": {
    "colab": {
      "name": "Concrete Strength Assignment.ipynb",
      "provenance": [],
      "collapsed_sections": []
    },
    "kernelspec": {
      "display_name": "Python 3",
      "language": "python",
      "name": "python3"
    },
    "language_info": {
      "codemirror_mode": {
        "name": "ipython",
        "version": 3
      },
      "file_extension": ".py",
      "mimetype": "text/x-python",
      "name": "python",
      "nbconvert_exporter": "python",
      "pygments_lexer": "ipython3",
      "version": "3.8.5"
    }
  },
  "cells": [
    {
      "cell_type": "markdown",
      "metadata": {
        "id": "O1z-HiD4GqF8"
      },
      "source": [
        "# Assignment: Compresive Strength Concrete Problem\n",
        "\n",
        "\n",
        "### Abstract: \n",
        "\n",
        "Concrete is the most important material in civil engineering. The concrete compressive strength (concrete strength to bear the load) is a highly nonlinear function of age and ingredients.  <br><br>\n",
        "\n",
        "<table border=\"1\"  cellpadding=\"6\" bordercolor=\"red\">\n",
        "\t<tbody>\n",
        "        <tr>\n",
        "\t\t<td bgcolor=\"#DDEEFF\"><p class=\"normal\"><b>Data Set Characteristics:&nbsp;&nbsp;</b></p></td>\n",
        "\t\t<td><p class=\"normal\">Multivariate</p></td>\n",
        "\t\t<td bgcolor=\"#DDEEFF\"><p class=\"normal\"><b>Number of Instances:</b></p></td>\n",
        "\t\t<td><p class=\"normal\">1030</p></td>\n",
        "\t\t<td bgcolor=\"#DDEEFF\"><p class=\"normal\"><b>Area:</b></p></td>\n",
        "\t\t<td><p class=\"normal\">Physical</p></td>\n",
        "        </tr>\n",
        "     </tbody>\n",
        "    </table>\n",
        "<table border=\"1\" cellpadding=\"6\">\n",
        "    <tbody>\n",
        "        <tr>\n",
        "            <td bgcolor=\"#DDEEFF\"><p class=\"normal\"><b>Attribute Characteristics:</b></p></td>\n",
        "            <td><p class=\"normal\">Real</p></td>\n",
        "            <td bgcolor=\"#DDEEFF\"><p class=\"normal\"><b>Number of Attributes:</b></p></td>\n",
        "            <td><p class=\"normal\">9</p></td>\n",
        "            <td bgcolor=\"#DDEEFF\"><p class=\"normal\"><b>Date Donated</b></p></td>\n",
        "            <td><p class=\"normal\">2007-08-03</p></td>\n",
        "        </tr>\n",
        "     </tbody>\n",
        "    </table>\n",
        "<table border=\"1\" cellpadding=\"6\">\t\n",
        "    <tbody>\n",
        "    <tr>\n",
        "\t\t<td bgcolor=\"#DDEEFF\"><p class=\"normal\"><b>Associated Tasks:</b></p></td>\n",
        "\t\t<td><p class=\"normal\">Regression</p></td>\n",
        "\t\t<td bgcolor=\"#DDEEFF\"><p class=\"normal\"><b>Missing Values?</b></p></td>\n",
        "\t\t<td><p class=\"normal\">N/A</p></td>\n",
        "\t\t<td bgcolor=\"#DDEEFF\"><p class=\"normal\"><b>Number of Web Hits:</b></p></td>\n",
        "\t\t<td><p class=\"normal\">231464</p></td>\n",
        "\t</tr>\n",
        "    </tbody>\n",
        "    </table>"
      ]
    },
    {
      "cell_type": "markdown",
      "metadata": {
        "id": "jWYnWqs6GqF_"
      },
      "source": [
        "###  Description:\n",
        "| Features Name | Data Type | Measurement | Description |\n",
        "| -- | -- | -- | -- |\n",
        "Cement (component 1) | quantitative | kg in a m3 mixture | Input Variable\n",
        "Blast Furnace Slag (component 2) | quantitative | kg in a m3 mixture | Input Variable\n",
        "Fly Ash (component 3) | quantitative | kg in a m3 mixture | Input Variable\n",
        "Water (component 4) | quantitative | kg in a m3 mixture | Input Variable\n",
        "Superplasticizer (component 5) | quantitative | kg in a m3 mixture | Input Variable\n",
        "Coarse Aggregate (component 6) | quantitative | kg in a m3 mixture | Input Variable\n",
        "Fine Aggregate (component 7) | quantitative | kg in a m3 mixture | Input Variable\n",
        "Age | quantitative | Day (1~365) | Input Variable\n",
        "Concrete compressive strength | quantitative | MPa | Output Variable\n",
        "\n",
        "### WORKFLOW :\n",
        "- Load Data\n",
        "- Check Missing Values ( If Exist ; Fill each record with mean of its feature )\n",
        "- Standardized the Input Variables. **Hint**: Centeralized the data\n",
        "- Split into 50% Training(Samples,Labels) , 30% Test(Samples,Labels) and 20% Validation Data(Samples,Labels).\n",
        "- Model : input Layer (No. of features ), 3 hidden layers including 10,8,6 unit & Output Layer with activation function relu/tanh (check by experiment).\n",
        "- Compilation Step (Note : Its a Regression problem , select loss , metrics according to it)\n",
        "- Train the Model with Epochs (100) and validate it\n",
        "- If the model gets overfit tune your model by changing the units , No. of layers , activation function , epochs , add dropout layer or add Regularizer according to the need .\n",
        "- Evaluation Step\n",
        "- Prediction\n"
      ]
    },
    {
      "cell_type": "markdown",
      "metadata": {
        "id": "hnMng9XtGqGB"
      },
      "source": [
        "# Load Data:\n",
        "[Click Here to Download DataSet](https://github.com/ramsha275/ML_Datasets/blob/main/compresive_strength_concrete.csv)"
      ]
    },
    {
      "cell_type": "code",
      "metadata": {
        "colab": {
          "base_uri": "https://localhost:8080/"
        },
        "id": "UzZKtuWvGqGB",
        "outputId": "4fcbf838-592b-45b7-e2b8-006f823f3f88"
      },
      "source": [
        "!wget https://github.com/ramsha275/ML_Datasets/raw/main/compresive_strength_concrete.csv -P ."
      ],
      "execution_count": null,
      "outputs": [
        {
          "output_type": "stream",
          "text": [
            "--2021-04-24 09:29:26--  https://github.com/ramsha275/ML_Datasets/raw/main/compresive_strength_concrete.csv\n",
            "Resolving github.com (github.com)... 140.82.121.3\n",
            "Connecting to github.com (github.com)|140.82.121.3|:443... connected.\n",
            "HTTP request sent, awaiting response... 302 Found\n",
            "Location: https://raw.githubusercontent.com/ramsha275/ML_Datasets/main/compresive_strength_concrete.csv [following]\n",
            "--2021-04-24 09:29:26--  https://raw.githubusercontent.com/ramsha275/ML_Datasets/main/compresive_strength_concrete.csv\n",
            "Resolving raw.githubusercontent.com (raw.githubusercontent.com)... 185.199.108.133, 185.199.109.133, 185.199.110.133, ...\n",
            "Connecting to raw.githubusercontent.com (raw.githubusercontent.com)|185.199.108.133|:443... connected.\n",
            "HTTP request sent, awaiting response... 200 OK\n",
            "Length: 59285 (58K) [text/plain]\n",
            "Saving to: ‘./compresive_strength_concrete.csv’\n",
            "\n",
            "compresive_strength 100%[===================>]  57.90K  --.-KB/s    in 0.004s  \n",
            "\n",
            "2021-04-24 09:29:26 (13.1 MB/s) - ‘./compresive_strength_concrete.csv’ saved [59285/59285]\n",
            "\n"
          ],
          "name": "stdout"
        }
      ]
    },
    {
      "cell_type": "code",
      "metadata": {
        "id": "rHimt1izHuVQ"
      },
      "source": [
        "import pandas as pd\n",
        "import numpy as np\n",
        "from sklearn.model_selection import train_test_split\n",
        "from keras import models\n",
        "from keras import layers"
      ],
      "execution_count": 53,
      "outputs": []
    },
    {
      "cell_type": "code",
      "metadata": {
        "id": "gBdyv0xuH-Fl"
      },
      "source": [
        "df = pd.read_csv('./compresive_strength_concrete.csv')"
      ],
      "execution_count": 54,
      "outputs": []
    },
    {
      "cell_type": "code",
      "metadata": {
        "id": "RRoWQvN6Jg6d"
      },
      "source": [
        "featuresDf = df[df.columns[:-1]]\n",
        "labelDf = df[df.columns[-1]]"
      ],
      "execution_count": 55,
      "outputs": []
    },
    {
      "cell_type": "code",
      "metadata": {
        "id": "rQfuWnu4KF4e"
      },
      "source": [
        "totalSize = len(df)"
      ],
      "execution_count": 56,
      "outputs": []
    },
    {
      "cell_type": "code",
      "metadata": {
        "id": "C6dGOZFqKxQN"
      },
      "source": [
        "trainingSize = totalSize * 5 // 10\n",
        "validationSize = totalSize * 2 // 10\n",
        "testSize = totalSize - trainingSize - validationSize"
      ],
      "execution_count": 57,
      "outputs": []
    },
    {
      "cell_type": "code",
      "metadata": {
        "id": "CZm6xy3SLQ3s"
      },
      "source": [
        "trainingData, trainingLabel = featuresDf[:trainingSize],labelDf[trainingSize:]\n",
        "validationData, validationLabel = featuresDf[trainingSize:trainingSize+validationSize],labelDf[trainingSize:trainingSize+validationSize]"
      ],
      "execution_count": 58,
      "outputs": []
    },
    {
      "cell_type": "code",
      "metadata": {
        "id": "WXPbryPKRIKE"
      },
      "source": [
        "testData,testLabel = featuresDf[trainingSize+validationSize:],labelDf[trainingSize+validationSize:]"
      ],
      "execution_count": 59,
      "outputs": []
    },
    {
      "cell_type": "code",
      "metadata": {
        "id": "vuxPxV8oSgut"
      },
      "source": [
        "mean = trainingData.mean(axis=0)\n",
        "trainingData -= mean\n",
        "std = trainingData.std(axis=0)\n",
        "trainingData /= std\n",
        "validationData -= mean\n",
        "validationData /= std\n",
        "testData -= mean\n",
        "testData /= std"
      ],
      "execution_count": 60,
      "outputs": []
    },
    {
      "cell_type": "code",
      "metadata": {
        "id": "-5EwRLBBOzTf"
      },
      "source": [
        "model = models.Sequential()\n",
        "model.add(layers.Dense(16, activation='tanh', input_shape=(8,)))\n",
        "model.add(layers.Dropout(0.3))\n",
        "model.add(layers.Dense(10, activation='tanh'))\n",
        "model.add(layers.Dropout(0.5))\n",
        "model.add(layers.Dense(8, activation='tanh'))\n",
        "model.add(layers.Dense(1))\n",
        "model.compile(optimizer='rmsprop', loss='mse', metrics=['mae'])"
      ],
      "execution_count": 66,
      "outputs": []
    },
    {
      "cell_type": "code",
      "metadata": {
        "colab": {
          "base_uri": "https://localhost:8080/"
        },
        "id": "dZQpUmnYRxeX",
        "outputId": "409955d9-8598-44d4-e0ae-f47e0758f653"
      },
      "source": [
        "model.fit(trainingData,trainingLabel,epochs=100)"
      ],
      "execution_count": 67,
      "outputs": [
        {
          "output_type": "stream",
          "text": [
            "Epoch 1/100\n",
            "17/17 [==============================] - 1s 1ms/step - loss: 1089.8583 - mae: 29.9211\n",
            "Epoch 2/100\n",
            "17/17 [==============================] - 0s 1ms/step - loss: 1026.2243 - mae: 28.8282\n",
            "Epoch 3/100\n",
            "17/17 [==============================] - 0s 1ms/step - loss: 1042.4977 - mae: 29.2130\n",
            "Epoch 4/100\n",
            "17/17 [==============================] - 0s 944us/step - loss: 951.2495 - mae: 28.0217\n",
            "Epoch 5/100\n",
            "17/17 [==============================] - 0s 1ms/step - loss: 1001.9693 - mae: 28.5376\n",
            "Epoch 6/100\n",
            "17/17 [==============================] - 0s 995us/step - loss: 1016.7298 - mae: 28.8048\n",
            "Epoch 7/100\n",
            "17/17 [==============================] - 0s 965us/step - loss: 962.2580 - mae: 27.8787\n",
            "Epoch 8/100\n",
            "17/17 [==============================] - 0s 991us/step - loss: 938.8759 - mae: 27.2274\n",
            "Epoch 9/100\n",
            "17/17 [==============================] - 0s 1ms/step - loss: 959.9701 - mae: 27.5111\n",
            "Epoch 10/100\n",
            "17/17 [==============================] - 0s 971us/step - loss: 921.1389 - mae: 27.0201\n",
            "Epoch 11/100\n",
            "17/17 [==============================] - 0s 1ms/step - loss: 942.2165 - mae: 27.2305\n",
            "Epoch 12/100\n",
            "17/17 [==============================] - 0s 976us/step - loss: 956.2419 - mae: 27.3563\n",
            "Epoch 13/100\n",
            "17/17 [==============================] - 0s 961us/step - loss: 884.8916 - mae: 26.2148\n",
            "Epoch 14/100\n",
            "17/17 [==============================] - 0s 1ms/step - loss: 918.0811 - mae: 26.6382\n",
            "Epoch 15/100\n",
            "17/17 [==============================] - 0s 1ms/step - loss: 869.4910 - mae: 26.1334\n",
            "Epoch 16/100\n",
            "17/17 [==============================] - 0s 1ms/step - loss: 823.4424 - mae: 25.1229\n",
            "Epoch 17/100\n",
            "17/17 [==============================] - 0s 1ms/step - loss: 781.7722 - mae: 24.4494\n",
            "Epoch 18/100\n",
            "17/17 [==============================] - 0s 1ms/step - loss: 739.2794 - mae: 23.5833\n",
            "Epoch 19/100\n",
            "17/17 [==============================] - 0s 1ms/step - loss: 763.8564 - mae: 24.0034\n",
            "Epoch 20/100\n",
            "17/17 [==============================] - 0s 1ms/step - loss: 756.1328 - mae: 23.7851\n",
            "Epoch 21/100\n",
            "17/17 [==============================] - 0s 1ms/step - loss: 761.6396 - mae: 23.9964\n",
            "Epoch 22/100\n",
            "17/17 [==============================] - 0s 1ms/step - loss: 749.7050 - mae: 23.4937\n",
            "Epoch 23/100\n",
            "17/17 [==============================] - 0s 1ms/step - loss: 714.6344 - mae: 22.9145\n",
            "Epoch 24/100\n",
            "17/17 [==============================] - 0s 1ms/step - loss: 773.6158 - mae: 23.8266\n",
            "Epoch 25/100\n",
            "17/17 [==============================] - 0s 999us/step - loss: 694.2325 - mae: 22.6924\n",
            "Epoch 26/100\n",
            "17/17 [==============================] - 0s 1ms/step - loss: 657.7059 - mae: 21.8228\n",
            "Epoch 27/100\n",
            "17/17 [==============================] - 0s 962us/step - loss: 674.4251 - mae: 22.0832\n",
            "Epoch 28/100\n",
            "17/17 [==============================] - 0s 1ms/step - loss: 715.1328 - mae: 22.6141\n",
            "Epoch 29/100\n",
            "17/17 [==============================] - 0s 1ms/step - loss: 686.3312 - mae: 22.1484\n",
            "Epoch 30/100\n",
            "17/17 [==============================] - 0s 1ms/step - loss: 662.5481 - mae: 21.8044\n",
            "Epoch 31/100\n",
            "17/17 [==============================] - 0s 1ms/step - loss: 653.6964 - mae: 21.3884\n",
            "Epoch 32/100\n",
            "17/17 [==============================] - 0s 1ms/step - loss: 650.6293 - mae: 21.7260\n",
            "Epoch 33/100\n",
            "17/17 [==============================] - 0s 1ms/step - loss: 658.2460 - mae: 21.4390\n",
            "Epoch 34/100\n",
            "17/17 [==============================] - 0s 1ms/step - loss: 650.5251 - mae: 21.4605\n",
            "Epoch 35/100\n",
            "17/17 [==============================] - 0s 1ms/step - loss: 624.0180 - mae: 20.8005\n",
            "Epoch 36/100\n",
            "17/17 [==============================] - 0s 1ms/step - loss: 633.6171 - mae: 20.9649\n",
            "Epoch 37/100\n",
            "17/17 [==============================] - 0s 1ms/step - loss: 615.8597 - mae: 20.9445\n",
            "Epoch 38/100\n",
            "17/17 [==============================] - 0s 973us/step - loss: 570.2709 - mae: 19.9096\n",
            "Epoch 39/100\n",
            "17/17 [==============================] - 0s 1ms/step - loss: 632.3848 - mae: 21.1412\n",
            "Epoch 40/100\n",
            "17/17 [==============================] - 0s 1ms/step - loss: 585.9512 - mae: 19.9991\n",
            "Epoch 41/100\n",
            "17/17 [==============================] - 0s 1ms/step - loss: 584.9790 - mae: 19.8750\n",
            "Epoch 42/100\n",
            "17/17 [==============================] - 0s 933us/step - loss: 594.6601 - mae: 20.3526\n",
            "Epoch 43/100\n",
            "17/17 [==============================] - 0s 1ms/step - loss: 570.6871 - mae: 19.7852\n",
            "Epoch 44/100\n",
            "17/17 [==============================] - 0s 1ms/step - loss: 535.3246 - mae: 19.1515\n",
            "Epoch 45/100\n",
            "17/17 [==============================] - 0s 1ms/step - loss: 580.9648 - mae: 19.9470\n",
            "Epoch 46/100\n",
            "17/17 [==============================] - 0s 1ms/step - loss: 557.2533 - mae: 19.7534\n",
            "Epoch 47/100\n",
            "17/17 [==============================] - 0s 1ms/step - loss: 560.6196 - mae: 19.2081\n",
            "Epoch 48/100\n",
            "17/17 [==============================] - 0s 1ms/step - loss: 516.4460 - mae: 18.7812\n",
            "Epoch 49/100\n",
            "17/17 [==============================] - 0s 1ms/step - loss: 515.9464 - mae: 18.4096\n",
            "Epoch 50/100\n",
            "17/17 [==============================] - 0s 1ms/step - loss: 520.2359 - mae: 18.5370\n",
            "Epoch 51/100\n",
            "17/17 [==============================] - 0s 1ms/step - loss: 534.2243 - mae: 19.1431\n",
            "Epoch 52/100\n",
            "17/17 [==============================] - 0s 1ms/step - loss: 496.1704 - mae: 18.2645\n",
            "Epoch 53/100\n",
            "17/17 [==============================] - 0s 1ms/step - loss: 536.4026 - mae: 18.8930\n",
            "Epoch 54/100\n",
            "17/17 [==============================] - 0s 965us/step - loss: 485.8043 - mae: 17.8134\n",
            "Epoch 55/100\n",
            "17/17 [==============================] - 0s 1ms/step - loss: 541.9908 - mae: 19.0192\n",
            "Epoch 56/100\n",
            "17/17 [==============================] - 0s 1ms/step - loss: 487.5559 - mae: 17.6868\n",
            "Epoch 57/100\n",
            "17/17 [==============================] - 0s 1ms/step - loss: 482.3464 - mae: 17.8415\n",
            "Epoch 58/100\n",
            "17/17 [==============================] - 0s 1ms/step - loss: 441.3114 - mae: 16.9648\n",
            "Epoch 59/100\n",
            "17/17 [==============================] - 0s 1ms/step - loss: 441.0508 - mae: 16.9312\n",
            "Epoch 60/100\n",
            "17/17 [==============================] - 0s 1ms/step - loss: 499.4473 - mae: 17.9625\n",
            "Epoch 61/100\n",
            "17/17 [==============================] - 0s 1ms/step - loss: 504.5858 - mae: 18.0840\n",
            "Epoch 62/100\n",
            "17/17 [==============================] - 0s 984us/step - loss: 502.2312 - mae: 18.1193\n",
            "Epoch 63/100\n",
            "17/17 [==============================] - 0s 1ms/step - loss: 482.6920 - mae: 17.7217\n",
            "Epoch 64/100\n",
            "17/17 [==============================] - 0s 1ms/step - loss: 471.3299 - mae: 17.5151\n",
            "Epoch 65/100\n",
            "17/17 [==============================] - 0s 1ms/step - loss: 506.9631 - mae: 18.0701\n",
            "Epoch 66/100\n",
            "17/17 [==============================] - 0s 1ms/step - loss: 436.5326 - mae: 16.8817\n",
            "Epoch 67/100\n",
            "17/17 [==============================] - 0s 996us/step - loss: 456.7310 - mae: 17.0005\n",
            "Epoch 68/100\n",
            "17/17 [==============================] - 0s 1ms/step - loss: 454.9089 - mae: 17.1890\n",
            "Epoch 69/100\n",
            "17/17 [==============================] - 0s 1ms/step - loss: 443.7832 - mae: 16.8276\n",
            "Epoch 70/100\n",
            "17/17 [==============================] - 0s 1ms/step - loss: 423.7632 - mae: 16.3660\n",
            "Epoch 71/100\n",
            "17/17 [==============================] - 0s 1ms/step - loss: 442.1803 - mae: 16.7615\n",
            "Epoch 72/100\n",
            "17/17 [==============================] - 0s 1ms/step - loss: 417.4515 - mae: 16.1068\n",
            "Epoch 73/100\n",
            "17/17 [==============================] - 0s 989us/step - loss: 461.3069 - mae: 17.0279\n",
            "Epoch 74/100\n",
            "17/17 [==============================] - 0s 1ms/step - loss: 406.7316 - mae: 16.0481\n",
            "Epoch 75/100\n",
            "17/17 [==============================] - 0s 990us/step - loss: 406.9279 - mae: 16.1561\n",
            "Epoch 76/100\n",
            "17/17 [==============================] - 0s 1ms/step - loss: 420.3178 - mae: 16.4804\n",
            "Epoch 77/100\n",
            "17/17 [==============================] - 0s 1ms/step - loss: 410.0231 - mae: 16.4271\n",
            "Epoch 78/100\n",
            "17/17 [==============================] - 0s 1ms/step - loss: 388.3100 - mae: 15.5300\n",
            "Epoch 79/100\n",
            "17/17 [==============================] - 0s 1ms/step - loss: 441.4839 - mae: 16.5018\n",
            "Epoch 80/100\n",
            "17/17 [==============================] - 0s 1ms/step - loss: 381.0060 - mae: 15.6762\n",
            "Epoch 81/100\n",
            "17/17 [==============================] - 0s 980us/step - loss: 369.4945 - mae: 15.1721\n",
            "Epoch 82/100\n",
            "17/17 [==============================] - 0s 1ms/step - loss: 392.0473 - mae: 15.7445\n",
            "Epoch 83/100\n",
            "17/17 [==============================] - 0s 1ms/step - loss: 406.4106 - mae: 15.8169\n",
            "Epoch 84/100\n",
            "17/17 [==============================] - 0s 1ms/step - loss: 388.6251 - mae: 15.5638\n",
            "Epoch 85/100\n",
            "17/17 [==============================] - 0s 1ms/step - loss: 377.5939 - mae: 15.2231\n",
            "Epoch 86/100\n",
            "17/17 [==============================] - 0s 1ms/step - loss: 359.9905 - mae: 15.0854\n",
            "Epoch 87/100\n",
            "17/17 [==============================] - 0s 1ms/step - loss: 365.6360 - mae: 15.1879\n",
            "Epoch 88/100\n",
            "17/17 [==============================] - 0s 1ms/step - loss: 362.7100 - mae: 15.1222\n",
            "Epoch 89/100\n",
            "17/17 [==============================] - 0s 1ms/step - loss: 360.0169 - mae: 14.8147\n",
            "Epoch 90/100\n",
            "17/17 [==============================] - 0s 1ms/step - loss: 348.6198 - mae: 14.6659\n",
            "Epoch 91/100\n",
            "17/17 [==============================] - 0s 1ms/step - loss: 331.1861 - mae: 14.2178\n",
            "Epoch 92/100\n",
            "17/17 [==============================] - 0s 2ms/step - loss: 314.9921 - mae: 13.7575\n",
            "Epoch 93/100\n",
            "17/17 [==============================] - 0s 1ms/step - loss: 350.1037 - mae: 14.6578\n",
            "Epoch 94/100\n",
            "17/17 [==============================] - 0s 1ms/step - loss: 348.1511 - mae: 14.9332\n",
            "Epoch 95/100\n",
            "17/17 [==============================] - 0s 1ms/step - loss: 327.8886 - mae: 14.3889\n",
            "Epoch 96/100\n",
            "17/17 [==============================] - 0s 1ms/step - loss: 305.1937 - mae: 13.7796\n",
            "Epoch 97/100\n",
            "17/17 [==============================] - 0s 1ms/step - loss: 334.7558 - mae: 14.3050\n",
            "Epoch 98/100\n",
            "17/17 [==============================] - 0s 1ms/step - loss: 330.2920 - mae: 14.2333\n",
            "Epoch 99/100\n",
            "17/17 [==============================] - 0s 2ms/step - loss: 335.0321 - mae: 14.4218\n",
            "Epoch 100/100\n",
            "17/17 [==============================] - 0s 1ms/step - loss: 302.0075 - mae: 13.7230\n"
          ],
          "name": "stdout"
        },
        {
          "output_type": "execute_result",
          "data": {
            "text/plain": [
              "<tensorflow.python.keras.callbacks.History at 0x7f04e9f67190>"
            ]
          },
          "metadata": {
            "tags": []
          },
          "execution_count": 67
        }
      ]
    },
    {
      "cell_type": "code",
      "metadata": {
        "colab": {
          "base_uri": "https://localhost:8080/"
        },
        "id": "mC1SQijyR603",
        "outputId": "f188b185-3edb-442d-e947-fe7a5506fae1"
      },
      "source": [
        "model.evaluate(validationData,validationLabel)"
      ],
      "execution_count": 68,
      "outputs": [
        {
          "output_type": "stream",
          "text": [
            "7/7 [==============================] - 0s 1ms/step - loss: 209.1038 - mae: 11.1700\n"
          ],
          "name": "stdout"
        },
        {
          "output_type": "execute_result",
          "data": {
            "text/plain": [
              "[209.10382080078125, 11.170049667358398]"
            ]
          },
          "metadata": {
            "tags": []
          },
          "execution_count": 68
        }
      ]
    },
    {
      "cell_type": "code",
      "metadata": {
        "colab": {
          "base_uri": "https://localhost:8080/"
        },
        "id": "nl19tqZmT23a",
        "outputId": "cc5dbe97-6569-45ec-b9d5-05d37463e058"
      },
      "source": [
        "model.evaluate(testData,testLabel)"
      ],
      "execution_count": 69,
      "outputs": [
        {
          "output_type": "stream",
          "text": [
            "10/10 [==============================] - 0s 1ms/step - loss: 378.7706 - mae: 15.6461\n"
          ],
          "name": "stdout"
        },
        {
          "output_type": "execute_result",
          "data": {
            "text/plain": [
              "[378.77056884765625, 15.646082878112793]"
            ]
          },
          "metadata": {
            "tags": []
          },
          "execution_count": 69
        }
      ]
    },
    {
      "cell_type": "code",
      "metadata": {
        "id": "UfSjUKKCVZ_p"
      },
      "source": [
        ""
      ],
      "execution_count": null,
      "outputs": []
    }
  ]
}