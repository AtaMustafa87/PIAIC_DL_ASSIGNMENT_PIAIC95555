{
 "cells": [
  {
   "cell_type": "markdown",
   "metadata": {
    "id": "O1z-HiD4GqF8"
   },
   "source": [
    "# Assignment: Compresive Strength Concrete Problem\n",
    "\n",
    "\n",
    "### Abstract: \n",
    "\n",
    "Concrete is the most important material in civil engineering. The concrete compressive strength (concrete strength to bear the load) is a highly nonlinear function of age and ingredients.  <br><br>\n",
    "\n",
    "<table border=\"1\"  cellpadding=\"6\" bordercolor=\"red\">\n",
    "\t<tbody>\n",
    "        <tr>\n",
    "\t\t<td bgcolor=\"#DDEEFF\"><p class=\"normal\"><b>Data Set Characteristics:&nbsp;&nbsp;</b></p></td>\n",
    "\t\t<td><p class=\"normal\">Multivariate</p></td>\n",
    "\t\t<td bgcolor=\"#DDEEFF\"><p class=\"normal\"><b>Number of Instances:</b></p></td>\n",
    "\t\t<td><p class=\"normal\">1030</p></td>\n",
    "\t\t<td bgcolor=\"#DDEEFF\"><p class=\"normal\"><b>Area:</b></p></td>\n",
    "\t\t<td><p class=\"normal\">Physical</p></td>\n",
    "        </tr>\n",
    "     </tbody>\n",
    "    </table>\n",
    "<table border=\"1\" cellpadding=\"6\">\n",
    "    <tbody>\n",
    "        <tr>\n",
    "            <td bgcolor=\"#DDEEFF\"><p class=\"normal\"><b>Attribute Characteristics:</b></p></td>\n",
    "            <td><p class=\"normal\">Real</p></td>\n",
    "            <td bgcolor=\"#DDEEFF\"><p class=\"normal\"><b>Number of Attributes:</b></p></td>\n",
    "            <td><p class=\"normal\">9</p></td>\n",
    "            <td bgcolor=\"#DDEEFF\"><p class=\"normal\"><b>Date Donated</b></p></td>\n",
    "            <td><p class=\"normal\">2007-08-03</p></td>\n",
    "        </tr>\n",
    "     </tbody>\n",
    "    </table>\n",
    "<table border=\"1\" cellpadding=\"6\">\t\n",
    "    <tbody>\n",
    "    <tr>\n",
    "\t\t<td bgcolor=\"#DDEEFF\"><p class=\"normal\"><b>Associated Tasks:</b></p></td>\n",
    "\t\t<td><p class=\"normal\">Regression</p></td>\n",
    "\t\t<td bgcolor=\"#DDEEFF\"><p class=\"normal\"><b>Missing Values?</b></p></td>\n",
    "\t\t<td><p class=\"normal\">N/A</p></td>\n",
    "\t\t<td bgcolor=\"#DDEEFF\"><p class=\"normal\"><b>Number of Web Hits:</b></p></td>\n",
    "\t\t<td><p class=\"normal\">231464</p></td>\n",
    "\t</tr>\n",
    "    </tbody>\n",
    "    </table>"
   ]
  },
  {
   "cell_type": "markdown",
   "metadata": {
    "id": "jWYnWqs6GqF_"
   },
   "source": [
    "###  Description:\n",
    "| Features Name | Data Type | Measurement | Description |\n",
    "| -- | -- | -- | -- |\n",
    "Cement (component 1) | quantitative | kg in a m3 mixture | Input Variable\n",
    "Blast Furnace Slag (component 2) | quantitative | kg in a m3 mixture | Input Variable\n",
    "Fly Ash (component 3) | quantitative | kg in a m3 mixture | Input Variable\n",
    "Water (component 4) | quantitative | kg in a m3 mixture | Input Variable\n",
    "Superplasticizer (component 5) | quantitative | kg in a m3 mixture | Input Variable\n",
    "Coarse Aggregate (component 6) | quantitative | kg in a m3 mixture | Input Variable\n",
    "Fine Aggregate (component 7) | quantitative | kg in a m3 mixture | Input Variable\n",
    "Age | quantitative | Day (1~365) | Input Variable\n",
    "Concrete compressive strength | quantitative | MPa | Output Variable\n",
    "\n",
    "### WORKFLOW :\n",
    "- Load Data\n",
    "- Check Missing Values ( If Exist ; Fill each record with mean of its feature )\n",
    "- Standardized the Input Variables. **Hint**: Centeralized the data\n",
    "- Split into 50% Training(Samples,Labels) , 30% Test(Samples,Labels) and 20% Validation Data(Samples,Labels).\n",
    "- Model : input Layer (No. of features ), 3 hidden layers including 10,8,6 unit & Output Layer with activation function relu/tanh (check by experiment).\n",
    "- Compilation Step (Note : Its a Regression problem , select loss , metrics according to it)\n",
    "- Train the Model with Epochs (100) and validate it\n",
    "- If the model gets overfit tune your model by changing the units , No. of layers , activation function , epochs , add dropout layer or add Regularizer according to the need .\n",
    "- Evaluation Step\n",
    "- Prediction\n"
   ]
  },
  {
   "cell_type": "markdown",
   "metadata": {
    "id": "hnMng9XtGqGB"
   },
   "source": [
    "# Load Data:\n",
    "[Click Here to Download DataSet](https://github.com/ramsha275/ML_Datasets/blob/main/compresive_strength_concrete.csv)"
   ]
  },
  {
   "cell_type": "code",
   "execution_count": null,
   "metadata": {
    "id": "UzZKtuWvGqGB"
   },
   "outputs": [],
   "source": [
    "!wget https://github.com/ramsha275/ML_Datasets/raw/main/compresive_strength_concrete.csv -P ."
   ]
  },
  {
   "cell_type": "code",
   "execution_count": 43,
   "metadata": {
    "id": "rHimt1izHuVQ"
   },
   "outputs": [],
   "source": [
    "import pandas as pd\n",
    "import numpy as np\n",
    "from sklearn.model_selection import train_test_split\n",
    "from keras import models\n",
    "from keras import layers"
   ]
  },
  {
   "cell_type": "code",
   "execution_count": 44,
   "metadata": {
    "id": "gBdyv0xuH-Fl"
   },
   "outputs": [],
   "source": [
    "df = pd.read_csv('./compresive_strength_concrete.csv')"
   ]
  },
  {
   "cell_type": "code",
   "execution_count": 45,
   "metadata": {
    "id": "RRoWQvN6Jg6d"
   },
   "outputs": [],
   "source": [
    "featuresDf = df[df.columns[:-1]]\n",
    "labelDf = df[df.columns[-1]]"
   ]
  },
  {
   "cell_type": "code",
   "execution_count": 46,
   "metadata": {
    "id": "rQfuWnu4KF4e"
   },
   "outputs": [],
   "source": [
    "totalSize = len(df)"
   ]
  },
  {
   "cell_type": "code",
   "execution_count": 47,
   "metadata": {
    "id": "C6dGOZFqKxQN"
   },
   "outputs": [],
   "source": [
    "trainingSize = totalSize * 5 // 10\n",
    "validationSize = totalSize * 2 // 10\n",
    "testSize = totalSize - trainingSize - validationSize"
   ]
  },
  {
   "cell_type": "code",
   "execution_count": 52,
   "metadata": {
    "id": "CZm6xy3SLQ3s"
   },
   "outputs": [],
   "source": [
    "trainingData, trainingLabel = featuresDf[:trainingSize],labelDf[:trainingSize]\n",
    "validationData, validationLabel = featuresDf[trainingSize:trainingSize+validationSize],labelDf[trainingSize:trainingSize+validationSize]"
   ]
  },
  {
   "cell_type": "code",
   "execution_count": 53,
   "metadata": {
    "id": "WXPbryPKRIKE"
   },
   "outputs": [],
   "source": [
    "testData,testLabel = featuresDf[trainingSize+validationSize:],labelDf[trainingSize+validationSize:]"
   ]
  },
  {
   "cell_type": "code",
   "execution_count": 54,
   "metadata": {
    "id": "vuxPxV8oSgut"
   },
   "outputs": [],
   "source": [
    "mean = trainingData.mean(axis=0)\n",
    "trainingData -= mean\n",
    "std = trainingData.std(axis=0)\n",
    "trainingData /= std\n",
    "validationData -= mean\n",
    "validationData /= std\n",
    "testData -= mean\n",
    "testData /= std"
   ]
  },
  {
   "cell_type": "code",
   "execution_count": 65,
   "metadata": {
    "id": "-5EwRLBBOzTf"
   },
   "outputs": [],
   "source": [
    "model = models.Sequential()\n",
    "model.add(layers.Dense(10, activation='tanh', input_shape=(8,)))\n",
    "model.add(layers.Dropout(0.3))\n",
    "model.add(layers.Dense(8, activation='tanh'))\n",
    "model.add(layers.Dropout(0.5))\n",
    "model.add(layers.Dense(6, activation='tanh'))\n",
    "model.add(layers.Dense(1))\n",
    "model.compile(optimizer='rmsprop', loss='mse', metrics=['mae'])"
   ]
  },
  {
   "cell_type": "code",
   "execution_count": 66,
   "metadata": {
    "colab": {
     "base_uri": "https://localhost:8080/"
    },
    "id": "dZQpUmnYRxeX",
    "outputId": "bf1bb97e-b4d8-4867-b79c-ac2404111d10"
   },
   "outputs": [
    {
     "name": "stdout",
     "output_type": "stream",
     "text": [
      "Epoch 1/100\n",
      "17/17 [==============================] - 1s 1ms/step - loss: 1057.1629 - mae: 29.4298\n",
      "Epoch 2/100\n",
      "17/17 [==============================] - 0s 1ms/step - loss: 1034.9498 - mae: 28.8618\n",
      "Epoch 3/100\n",
      "17/17 [==============================] - 0s 1ms/step - loss: 984.7507 - mae: 28.3740\n",
      "Epoch 4/100\n",
      "17/17 [==============================] - 0s 1ms/step - loss: 1014.1771 - mae: 28.7626\n",
      "Epoch 5/100\n",
      "17/17 [==============================] - 0s 1ms/step - loss: 985.2722 - mae: 28.4613\n",
      "Epoch 6/100\n",
      "17/17 [==============================] - 0s 1ms/step - loss: 1053.4133 - mae: 29.1760\n",
      "Epoch 7/100\n",
      "17/17 [==============================] - 0s 2ms/step - loss: 989.0086 - mae: 28.2862\n",
      "Epoch 8/100\n",
      "17/17 [==============================] - 0s 1ms/step - loss: 989.2899 - mae: 28.2413\n",
      "Epoch 9/100\n",
      "17/17 [==============================] - 0s 2ms/step - loss: 980.8573 - mae: 28.1790\n",
      "Epoch 10/100\n",
      "17/17 [==============================] - 0s 1ms/step - loss: 931.0152 - mae: 27.3042\n",
      "Epoch 11/100\n",
      "17/17 [==============================] - 0s 1ms/step - loss: 957.6467 - mae: 27.9358\n",
      "Epoch 12/100\n",
      "17/17 [==============================] - 0s 1ms/step - loss: 943.0654 - mae: 27.5015\n",
      "Epoch 13/100\n",
      "17/17 [==============================] - 0s 1ms/step - loss: 893.2861 - mae: 26.3879\n",
      "Epoch 14/100\n",
      "17/17 [==============================] - 0s 2ms/step - loss: 922.9987 - mae: 26.9642\n",
      "Epoch 15/100\n",
      "17/17 [==============================] - 0s 2ms/step - loss: 880.7776 - mae: 26.4210\n",
      "Epoch 16/100\n",
      "17/17 [==============================] - 0s 2ms/step - loss: 847.4793 - mae: 25.8898\n",
      "Epoch 17/100\n",
      "17/17 [==============================] - 0s 2ms/step - loss: 863.6238 - mae: 26.1682\n",
      "Epoch 18/100\n",
      "17/17 [==============================] - 0s 1ms/step - loss: 863.5050 - mae: 26.1081\n",
      "Epoch 19/100\n",
      "17/17 [==============================] - 0s 1ms/step - loss: 861.4691 - mae: 25.7967\n",
      "Epoch 20/100\n",
      "17/17 [==============================] - 0s 2ms/step - loss: 782.1846 - mae: 24.5763\n",
      "Epoch 21/100\n",
      "17/17 [==============================] - 0s 1ms/step - loss: 778.9479 - mae: 24.6071\n",
      "Epoch 22/100\n",
      "17/17 [==============================] - 0s 2ms/step - loss: 866.2465 - mae: 25.8266\n",
      "Epoch 23/100\n",
      "17/17 [==============================] - 0s 1ms/step - loss: 806.6401 - mae: 24.5716\n",
      "Epoch 24/100\n",
      "17/17 [==============================] - 0s 1ms/step - loss: 758.0327 - mae: 23.8885\n",
      "Epoch 25/100\n",
      "17/17 [==============================] - 0s 1ms/step - loss: 738.6469 - mae: 23.7497\n",
      "Epoch 26/100\n",
      "17/17 [==============================] - 0s 1ms/step - loss: 729.8441 - mae: 23.6057\n",
      "Epoch 27/100\n",
      "17/17 [==============================] - 0s 1ms/step - loss: 738.9132 - mae: 23.3774\n",
      "Epoch 28/100\n",
      "17/17 [==============================] - 0s 1ms/step - loss: 771.4173 - mae: 23.9252\n",
      "Epoch 29/100\n",
      "17/17 [==============================] - 0s 1ms/step - loss: 703.5208 - mae: 22.7578\n",
      "Epoch 30/100\n",
      "17/17 [==============================] - 0s 2ms/step - loss: 736.1790 - mae: 23.3707\n",
      "Epoch 31/100\n",
      "17/17 [==============================] - 0s 2ms/step - loss: 708.6666 - mae: 23.0812\n",
      "Epoch 32/100\n",
      "17/17 [==============================] - 0s 2ms/step - loss: 765.0030 - mae: 23.8260\n",
      "Epoch 33/100\n",
      "17/17 [==============================] - 0s 1ms/step - loss: 711.7588 - mae: 22.9883\n",
      "Epoch 34/100\n",
      "17/17 [==============================] - 0s 1ms/step - loss: 716.8353 - mae: 22.7464\n",
      "Epoch 35/100\n",
      "17/17 [==============================] - 0s 1ms/step - loss: 687.5291 - mae: 22.3660\n",
      "Epoch 36/100\n",
      "17/17 [==============================] - 0s 1ms/step - loss: 695.2604 - mae: 22.5114\n",
      "Epoch 37/100\n",
      "17/17 [==============================] - 0s 1ms/step - loss: 709.1078 - mae: 22.7410\n",
      "Epoch 38/100\n",
      "17/17 [==============================] - 0s 2ms/step - loss: 670.4602 - mae: 22.0284\n",
      "Epoch 39/100\n",
      "17/17 [==============================] - 0s 2ms/step - loss: 708.1561 - mae: 22.7356\n",
      "Epoch 40/100\n",
      "17/17 [==============================] - 0s 2ms/step - loss: 610.1831 - mae: 20.9201\n",
      "Epoch 41/100\n",
      "17/17 [==============================] - 0s 1ms/step - loss: 664.6183 - mae: 22.0355\n",
      "Epoch 42/100\n",
      "17/17 [==============================] - 0s 1ms/step - loss: 655.3928 - mae: 21.7301\n",
      "Epoch 43/100\n",
      "17/17 [==============================] - 0s 2ms/step - loss: 664.9523 - mae: 22.0587\n",
      "Epoch 44/100\n",
      "17/17 [==============================] - 0s 2ms/step - loss: 636.7388 - mae: 21.1068\n",
      "Epoch 45/100\n",
      "17/17 [==============================] - 0s 1ms/step - loss: 601.1974 - mae: 20.8183\n",
      "Epoch 46/100\n",
      "17/17 [==============================] - 0s 1ms/step - loss: 632.6412 - mae: 20.8613\n",
      "Epoch 47/100\n",
      "17/17 [==============================] - 0s 2ms/step - loss: 591.4491 - mae: 20.5067\n",
      "Epoch 48/100\n",
      "17/17 [==============================] - 0s 2ms/step - loss: 615.1172 - mae: 20.9509\n",
      "Epoch 49/100\n",
      "17/17 [==============================] - 0s 1ms/step - loss: 628.0474 - mae: 21.4275\n",
      "Epoch 50/100\n",
      "17/17 [==============================] - 0s 1ms/step - loss: 641.6402 - mae: 21.5812\n",
      "Epoch 51/100\n",
      "17/17 [==============================] - 0s 1ms/step - loss: 615.3526 - mae: 20.6639\n",
      "Epoch 52/100\n",
      "17/17 [==============================] - 0s 2ms/step - loss: 628.2051 - mae: 20.9259\n",
      "Epoch 53/100\n",
      "17/17 [==============================] - 0s 1ms/step - loss: 568.4851 - mae: 19.6034\n",
      "Epoch 54/100\n",
      "17/17 [==============================] - 0s 1ms/step - loss: 562.0130 - mae: 19.8437\n",
      "Epoch 55/100\n",
      "17/17 [==============================] - 0s 1ms/step - loss: 566.4468 - mae: 19.8503\n",
      "Epoch 56/100\n",
      "17/17 [==============================] - 0s 2ms/step - loss: 571.7568 - mae: 19.7288\n",
      "Epoch 57/100\n",
      "17/17 [==============================] - 0s 1ms/step - loss: 602.4016 - mae: 20.4574\n",
      "Epoch 58/100\n",
      "17/17 [==============================] - 0s 2ms/step - loss: 574.6048 - mae: 19.6952\n",
      "Epoch 59/100\n",
      "17/17 [==============================] - 0s 2ms/step - loss: 602.4830 - mae: 20.1617\n",
      "Epoch 60/100\n",
      "17/17 [==============================] - 0s 2ms/step - loss: 590.7741 - mae: 20.2324\n",
      "Epoch 61/100\n",
      "17/17 [==============================] - 0s 1ms/step - loss: 547.1614 - mae: 19.3519\n",
      "Epoch 62/100\n",
      "17/17 [==============================] - 0s 2ms/step - loss: 586.7470 - mae: 19.8786\n",
      "Epoch 63/100\n",
      "17/17 [==============================] - 0s 1ms/step - loss: 547.0576 - mae: 19.4868\n",
      "Epoch 64/100\n",
      "17/17 [==============================] - 0s 1ms/step - loss: 525.3766 - mae: 18.9523\n",
      "Epoch 65/100\n",
      "17/17 [==============================] - 0s 1ms/step - loss: 561.9685 - mae: 19.4641\n",
      "Epoch 66/100\n",
      "17/17 [==============================] - 0s 2ms/step - loss: 524.6197 - mae: 18.7895\n",
      "Epoch 67/100\n",
      "17/17 [==============================] - 0s 2ms/step - loss: 493.9845 - mae: 18.2062\n",
      "Epoch 68/100\n",
      "17/17 [==============================] - 0s 2ms/step - loss: 547.1240 - mae: 19.1475\n",
      "Epoch 69/100\n",
      "17/17 [==============================] - 0s 2ms/step - loss: 491.7369 - mae: 18.1870\n",
      "Epoch 70/100\n",
      "17/17 [==============================] - 0s 1ms/step - loss: 497.9341 - mae: 18.1285\n",
      "Epoch 71/100\n",
      "17/17 [==============================] - 0s 2ms/step - loss: 539.0099 - mae: 18.8554\n",
      "Epoch 72/100\n",
      "17/17 [==============================] - 0s 2ms/step - loss: 500.0150 - mae: 18.1522\n",
      "Epoch 73/100\n",
      "17/17 [==============================] - 0s 2ms/step - loss: 507.0832 - mae: 18.3150\n",
      "Epoch 74/100\n",
      "17/17 [==============================] - 0s 2ms/step - loss: 518.4905 - mae: 18.5152\n",
      "Epoch 75/100\n",
      "17/17 [==============================] - 0s 2ms/step - loss: 548.6151 - mae: 19.1597\n",
      "Epoch 76/100\n",
      "17/17 [==============================] - 0s 2ms/step - loss: 507.2133 - mae: 18.4346\n",
      "Epoch 77/100\n",
      "17/17 [==============================] - 0s 3ms/step - loss: 485.9591 - mae: 17.8969\n",
      "Epoch 78/100\n",
      "17/17 [==============================] - 0s 2ms/step - loss: 475.3970 - mae: 17.7348\n",
      "Epoch 79/100\n",
      "17/17 [==============================] - 0s 2ms/step - loss: 494.9376 - mae: 17.9263\n",
      "Epoch 80/100\n",
      "17/17 [==============================] - 0s 2ms/step - loss: 509.4544 - mae: 17.9043\n",
      "Epoch 81/100\n",
      "17/17 [==============================] - 0s 1ms/step - loss: 515.0159 - mae: 18.3244\n",
      "Epoch 82/100\n",
      "17/17 [==============================] - 0s 2ms/step - loss: 509.7366 - mae: 18.5896\n",
      "Epoch 83/100\n",
      "17/17 [==============================] - 0s 1ms/step - loss: 442.0921 - mae: 16.8237\n",
      "Epoch 84/100\n",
      "17/17 [==============================] - 0s 1ms/step - loss: 444.2639 - mae: 16.8529\n",
      "Epoch 85/100\n",
      "17/17 [==============================] - 0s 1ms/step - loss: 451.7267 - mae: 17.2900\n",
      "Epoch 86/100\n",
      "17/17 [==============================] - 0s 2ms/step - loss: 450.2797 - mae: 17.1576\n",
      "Epoch 87/100\n",
      "17/17 [==============================] - 0s 2ms/step - loss: 435.5898 - mae: 16.7042\n",
      "Epoch 88/100\n",
      "17/17 [==============================] - 0s 1ms/step - loss: 457.8143 - mae: 17.2887\n",
      "Epoch 89/100\n",
      "17/17 [==============================] - 0s 2ms/step - loss: 462.3280 - mae: 17.3705\n",
      "Epoch 90/100\n",
      "17/17 [==============================] - 0s 1ms/step - loss: 444.0494 - mae: 16.9353\n",
      "Epoch 91/100\n",
      "17/17 [==============================] - 0s 2ms/step - loss: 429.0812 - mae: 16.6687\n",
      "Epoch 92/100\n",
      "17/17 [==============================] - 0s 2ms/step - loss: 415.5802 - mae: 16.4669\n",
      "Epoch 93/100\n",
      "17/17 [==============================] - 0s 1ms/step - loss: 432.8898 - mae: 16.6633\n",
      "Epoch 94/100\n",
      "17/17 [==============================] - 0s 2ms/step - loss: 396.6204 - mae: 15.7866\n",
      "Epoch 95/100\n",
      "17/17 [==============================] - 0s 1ms/step - loss: 463.2426 - mae: 17.1948\n",
      "Epoch 96/100\n",
      "17/17 [==============================] - 0s 1ms/step - loss: 444.6780 - mae: 16.9292\n",
      "Epoch 97/100\n",
      "17/17 [==============================] - 0s 2ms/step - loss: 420.8665 - mae: 16.4011\n",
      "Epoch 98/100\n",
      "17/17 [==============================] - 0s 2ms/step - loss: 403.1404 - mae: 16.1333\n",
      "Epoch 99/100\n",
      "17/17 [==============================] - 0s 2ms/step - loss: 422.9955 - mae: 16.1314\n",
      "Epoch 100/100\n",
      "17/17 [==============================] - 0s 1ms/step - loss: 391.2901 - mae: 15.5728\n"
     ]
    },
    {
     "data": {
      "text/plain": [
       "<tensorflow.python.keras.callbacks.History at 0x7f7cede4e590>"
      ]
     },
     "execution_count": 66,
     "metadata": {
      "tags": []
     },
     "output_type": "execute_result"
    }
   ],
   "source": [
    "model.fit(trainingData,trainingLabel,epochs=100)"
   ]
  },
  {
   "cell_type": "code",
   "execution_count": 67,
   "metadata": {
    "colab": {
     "base_uri": "https://localhost:8080/"
    },
    "id": "mC1SQijyR603",
    "outputId": "cbd878fc-91a5-49b5-ea21-0dff9132582c"
   },
   "outputs": [
    {
     "name": "stdout",
     "output_type": "stream",
     "text": [
      "7/7 [==============================] - 0s 2ms/step - loss: 268.7666 - mae: 12.5569\n"
     ]
    },
    {
     "data": {
      "text/plain": [
       "[268.7665710449219, 12.556870460510254]"
      ]
     },
     "execution_count": 67,
     "metadata": {
      "tags": []
     },
     "output_type": "execute_result"
    }
   ],
   "source": [
    "model.evaluate(validationData,validationLabel)"
   ]
  },
  {
   "cell_type": "code",
   "execution_count": 68,
   "metadata": {
    "colab": {
     "base_uri": "https://localhost:8080/"
    },
    "id": "nl19tqZmT23a",
    "outputId": "8e7ebb68-7f51-4092-f641-afacd7e0e853"
   },
   "outputs": [
    {
     "name": "stdout",
     "output_type": "stream",
     "text": [
      "10/10 [==============================] - 0s 2ms/step - loss: 495.5457 - mae: 18.2697\n"
     ]
    },
    {
     "data": {
      "text/plain": [
       "[495.54571533203125, 18.269702911376953]"
      ]
     },
     "execution_count": 68,
     "metadata": {
      "tags": []
     },
     "output_type": "execute_result"
    }
   ],
   "source": [
    "model.evaluate(testData,testLabel)"
   ]
  },
  {
   "cell_type": "code",
   "execution_count": null,
   "metadata": {
    "id": "UfSjUKKCVZ_p"
   },
   "outputs": [],
   "source": []
  }
 ],
 "metadata": {
  "colab": {
   "collapsed_sections": [],
   "name": "Concrete Strength Assignment.ipynb",
   "provenance": []
  },
  "kernelspec": {
   "display_name": "Python 3",
   "language": "python",
   "name": "python3"
  },
  "language_info": {
   "codemirror_mode": {
    "name": "ipython",
    "version": 3
   },
   "file_extension": ".py",
   "mimetype": "text/x-python",
   "name": "python",
   "nbconvert_exporter": "python",
   "pygments_lexer": "ipython3",
   "version": "3.6.5"
  }
 },
 "nbformat": 4,
 "nbformat_minor": 1
}
