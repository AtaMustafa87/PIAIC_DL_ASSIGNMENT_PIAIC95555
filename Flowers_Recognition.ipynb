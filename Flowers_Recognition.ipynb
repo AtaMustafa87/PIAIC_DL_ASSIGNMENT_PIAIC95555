{
  "nbformat": 4,
  "nbformat_minor": 0,
  "metadata": {
    "colab": {
      "name": "Flowers_Recognition.ipynb",
      "provenance": [],
      "collapsed_sections": []
    },
    "kernelspec": {
      "display_name": "Python 3",
      "name": "python3"
    }
  },
  "cells": [
    {
      "cell_type": "markdown",
      "metadata": {
        "id": "BXgJ6uT1NydQ"
      },
      "source": [
        "Assignment: Flowers Recognition <br>\n",
        "Dataset Description:<br>\n",
        "\n",
        "This dataset contains 4242 images of flowers.<br>\n",
        "The data collection is based on the data flicr, google images, yandex images.<br>\n",
        "You can use this datastet to recognize plants from the photo.<br>\n",
        "\n",
        "Attribute Information:<br>\n",
        "The pictures are divided into five classes: chamomile, tulip, rose, sunflower, dandelion.<br>\n",
        "For each class there are about 800 photos. Photos are not high resolution, about 320x240 pixels. <br>\n",
        "<b>Also explore how to resize images in tensorflow and then resize all the images to a same size. </b> <br>\n",
        "This is a Multiclass Classification Problem.<br>\n",
        "\n",
        "\n"
      ]
    },
    {
      "cell_type": "markdown",
      "metadata": {
        "id": "T7vy-ktuOKJH"
      },
      "source": [
        "WORKFLOW : <br>\n",
        "Load Data <br>\n",
        "Split into 60 and 40 ratio.<br>\n",
        "Encode labels.<br>\n",
        "Create Model<br>\n",
        "Compilation Step (Note : Its a Multiclass Classification problem , select loss , metrics according to it)<br>\n",
        "Train the Model.<br>\n",
        "If the model gets overfit tune your model by changing the units , No. of layers , epochs , add dropout layer or add Regularizer according to the need .<br>\n",
        "Prediction should be > 85%<br>\n",
        "Evaluation Step<br>\n",
        "Prediction<br>\n",
        "\n",
        "\n"
      ]
    },
    {
      "cell_type": "markdown",
      "metadata": {
        "id": "ri3Bg5qfPRic"
      },
      "source": [
        "Data : <br>\n",
        "https://drive.google.com/file/d/1-OX6wn5gA-bJpjPNfSyaYQLz-A-AB_uj/view?usp=sharing"
      ]
    },
    {
      "cell_type": "code",
      "metadata": {
        "colab": {
          "base_uri": "https://localhost:8080/"
        },
        "id": "lbdNPnSeEwFU",
        "outputId": "cadec13a-234b-4142-b95b-eff0a1592e40"
      },
      "source": [
        "from google.colab import drive\n",
        "drive.mount('/content/drive')"
      ],
      "execution_count": 59,
      "outputs": [
        {
          "output_type": "stream",
          "text": [
            "Drive already mounted at /content/drive; to attempt to forcibly remount, call drive.mount(\"/content/drive\", force_remount=True).\n"
          ],
          "name": "stdout"
        }
      ]
    },
    {
      "cell_type": "code",
      "metadata": {
        "id": "QIEwOHchW26v"
      },
      "source": [
        "import pandas as pd\n",
        "import numpy as np\n",
        "import tensorflow as tf\n",
        "from sklearn.model_selection import train_test_split\n",
        "from keras import models\n",
        "from keras import layers\n",
        "import os\n",
        "import cv2"
      ],
      "execution_count": 60,
      "outputs": []
    },
    {
      "cell_type": "code",
      "metadata": {
        "id": "Q1SSqfH-oImC"
      },
      "source": [
        "dataset = []\n",
        "category = 0\n",
        "root = '/content/drive/MyDrive/flowers/flowers/'\n",
        "for d in os.listdir(root):\n",
        "  category = category + 1\n",
        "  path = root+d+'/'\n",
        "  print(category)\n",
        "  for filename in os.listdir(path):\n",
        "    try:\n",
        "      img = cv2.imread(os.path.join(path,filename))\n",
        "      img = cv2.resize(img,(28,28))\n",
        "      dataset.append((img,category))\n",
        "    except Exception as e:\n",
        "      print(e)\n",
        "dataset[0][1]"
      ],
      "execution_count": null,
      "outputs": []
    },
    {
      "cell_type": "code",
      "metadata": {
        "id": "zXRN0kQE0VeH"
      },
      "source": [
        "X,y = [],[]\n",
        "for v in dataset:\n",
        "  X.append(v[:-1])\n",
        "  y.append(v[-1]) "
      ],
      "execution_count": 72,
      "outputs": []
    },
    {
      "cell_type": "code",
      "metadata": {
        "id": "eYY1OIBl0mWf"
      },
      "source": [
        "train_data,test_data,train_label,test_label = train_test_split(X, y, test_size=0.4, random_state=42)"
      ],
      "execution_count": 73,
      "outputs": []
    },
    {
      "cell_type": "code",
      "metadata": {
        "colab": {
          "base_uri": "https://localhost:8080/"
        },
        "id": "OW3v9_LD0Vvt",
        "outputId": "777b5ec9-0385-4c47-e3c7-258837e9ab9c"
      },
      "source": [
        "train_data = np.array(train_data)\n",
        "test_data = np.array(test_data)"
      ],
      "execution_count": 77,
      "outputs": [
        {
          "output_type": "execute_result",
          "data": {
            "text/plain": [
              "(2593, 1, 28, 28, 3)"
            ]
          },
          "metadata": {
            "tags": []
          },
          "execution_count": 77
        }
      ]
    },
    {
      "cell_type": "code",
      "metadata": {
        "id": "TXKFIHbB0Vse"
      },
      "source": [
        "train_images = train_data.reshape((len(train_data), 28 * 28*3))\n",
        "train_images = train_images.astype('float32') / 255\n",
        "test_images = test_data.reshape((len(test_data), 28 * 28*3))\n",
        "test_images = test_images.astype('float32') / 255"
      ],
      "execution_count": 78,
      "outputs": []
    },
    {
      "cell_type": "code",
      "metadata": {
        "colab": {
          "base_uri": "https://localhost:8080/"
        },
        "id": "tCc2atB20V1-",
        "outputId": "10c3fef7-6eaf-4f5d-f8a9-555562aa891b"
      },
      "source": [
        "len(train_images[0])"
      ],
      "execution_count": 80,
      "outputs": [
        {
          "output_type": "execute_result",
          "data": {
            "text/plain": [
              "2352"
            ]
          },
          "metadata": {
            "tags": []
          },
          "execution_count": 80
        }
      ]
    },
    {
      "cell_type": "code",
      "metadata": {
        "id": "_6J2qTDGJlyB"
      },
      "source": [
        "model = tf.keras.Sequential([\n",
        "  layers.experimental.preprocessing.Rescaling(1./255),\n",
        "  layers.Dense(2500, activation='relu',input_shape=(28*28*3,)),\n",
        "  layers.Dropout(0.2),\n",
        "  layers.Dense(1500, activation='relu'),\n",
        "  layers.Dropout(0.3),\n",
        "  layers.Dense(700, activation='relu'),\n",
        "  layers.Dense(310, activation='relu'),\n",
        "  layers.Dense(50, activation='relu'),\n",
        "  layers.Dropout(0.2),\n",
        "  layers.Dense(6, activation='softmax')\n",
        "])"
      ],
      "execution_count": 106,
      "outputs": []
    },
    {
      "cell_type": "code",
      "metadata": {
        "id": "gkmKeArQJpIh"
      },
      "source": [
        "model.compile(\n",
        "  optimizer='adam',\n",
        "  loss='categorical_crossentropy',\n",
        "  metrics=['accuracy'])"
      ],
      "execution_count": 107,
      "outputs": []
    },
    {
      "cell_type": "code",
      "metadata": {
        "colab": {
          "base_uri": "https://localhost:8080/"
        },
        "id": "Td5kEgwP4OAf",
        "outputId": "64cc0fdb-8ea6-4c76-9737-26a3e02a7014"
      },
      "source": [
        "from keras.utils import to_categorical\n",
        "train_labels = to_categorical(train_label)\n",
        "test_labels = to_categorical(test_label)\n",
        "train_images.shape"
      ],
      "execution_count": 108,
      "outputs": [
        {
          "output_type": "execute_result",
          "data": {
            "text/plain": [
              "(2593, 2352)"
            ]
          },
          "metadata": {
            "tags": []
          },
          "execution_count": 108
        }
      ]
    },
    {
      "cell_type": "code",
      "metadata": {
        "colab": {
          "base_uri": "https://localhost:8080/"
        },
        "id": "ypufV94_Jruy",
        "outputId": "37ffcb45-6072-45ea-8f78-3febfc9aca57"
      },
      "source": [
        "model.fit(train_images,train_labels,epochs=80)"
      ],
      "execution_count": 109,
      "outputs": [
        {
          "output_type": "stream",
          "text": [
            "Epoch 1/80\n",
            "82/82 [==============================] - 8s 89ms/step - loss: 1.6883 - accuracy: 0.2317\n",
            "Epoch 2/80\n",
            "82/82 [==============================] - 7s 88ms/step - loss: 1.5789 - accuracy: 0.2624\n",
            "Epoch 3/80\n",
            "82/82 [==============================] - 7s 87ms/step - loss: 1.5189 - accuracy: 0.3077\n",
            "Epoch 4/80\n",
            "82/82 [==============================] - 7s 87ms/step - loss: 1.4529 - accuracy: 0.3515\n",
            "Epoch 5/80\n",
            "82/82 [==============================] - 7s 87ms/step - loss: 1.3987 - accuracy: 0.3798\n",
            "Epoch 6/80\n",
            "82/82 [==============================] - 7s 87ms/step - loss: 1.3264 - accuracy: 0.4305\n",
            "Epoch 7/80\n",
            "82/82 [==============================] - 7s 87ms/step - loss: 1.2943 - accuracy: 0.4078\n",
            "Epoch 8/80\n",
            "82/82 [==============================] - 7s 87ms/step - loss: 1.2995 - accuracy: 0.4100\n",
            "Epoch 9/80\n",
            "82/82 [==============================] - 7s 87ms/step - loss: 1.3368 - accuracy: 0.4009\n",
            "Epoch 10/80\n",
            "82/82 [==============================] - 7s 87ms/step - loss: 1.2455 - accuracy: 0.4247\n",
            "Epoch 11/80\n",
            "82/82 [==============================] - 7s 87ms/step - loss: 1.2374 - accuracy: 0.4361\n",
            "Epoch 12/80\n",
            "82/82 [==============================] - 7s 87ms/step - loss: 1.2152 - accuracy: 0.4400\n",
            "Epoch 13/80\n",
            "82/82 [==============================] - 7s 87ms/step - loss: 1.1893 - accuracy: 0.4665\n",
            "Epoch 14/80\n",
            "82/82 [==============================] - 7s 87ms/step - loss: 1.2219 - accuracy: 0.4551\n",
            "Epoch 15/80\n",
            "82/82 [==============================] - 7s 87ms/step - loss: 1.3972 - accuracy: 0.3746\n",
            "Epoch 16/80\n",
            "82/82 [==============================] - 7s 87ms/step - loss: 1.1813 - accuracy: 0.4819\n",
            "Epoch 17/80\n",
            "82/82 [==============================] - 7s 87ms/step - loss: 1.1522 - accuracy: 0.4810\n",
            "Epoch 18/80\n",
            "82/82 [==============================] - 7s 87ms/step - loss: 1.1154 - accuracy: 0.4913\n",
            "Epoch 19/80\n",
            "82/82 [==============================] - 7s 87ms/step - loss: 1.1206 - accuracy: 0.5086\n",
            "Epoch 20/80\n",
            "82/82 [==============================] - 7s 87ms/step - loss: 1.1487 - accuracy: 0.4946\n",
            "Epoch 21/80\n",
            "82/82 [==============================] - 7s 87ms/step - loss: 1.0707 - accuracy: 0.5125\n",
            "Epoch 22/80\n",
            "82/82 [==============================] - 7s 87ms/step - loss: 1.0473 - accuracy: 0.5243\n",
            "Epoch 23/80\n",
            "82/82 [==============================] - 7s 87ms/step - loss: 1.0296 - accuracy: 0.5429\n",
            "Epoch 24/80\n",
            "82/82 [==============================] - 7s 87ms/step - loss: 1.0276 - accuracy: 0.5374\n",
            "Epoch 25/80\n",
            "82/82 [==============================] - 7s 87ms/step - loss: 1.0350 - accuracy: 0.5496\n",
            "Epoch 26/80\n",
            "82/82 [==============================] - 7s 87ms/step - loss: 0.9990 - accuracy: 0.5492\n",
            "Epoch 27/80\n",
            "82/82 [==============================] - 7s 87ms/step - loss: 0.9965 - accuracy: 0.5600\n",
            "Epoch 28/80\n",
            "82/82 [==============================] - 7s 87ms/step - loss: 0.9413 - accuracy: 0.5954\n",
            "Epoch 29/80\n",
            "82/82 [==============================] - 7s 87ms/step - loss: 0.9659 - accuracy: 0.5527\n",
            "Epoch 30/80\n",
            "82/82 [==============================] - 7s 87ms/step - loss: 0.9130 - accuracy: 0.5909\n",
            "Epoch 31/80\n",
            "82/82 [==============================] - 7s 88ms/step - loss: 1.0751 - accuracy: 0.5228\n",
            "Epoch 32/80\n",
            "82/82 [==============================] - 7s 87ms/step - loss: 0.9043 - accuracy: 0.6056\n",
            "Epoch 33/80\n",
            "82/82 [==============================] - 7s 87ms/step - loss: 0.8606 - accuracy: 0.6147\n",
            "Epoch 34/80\n",
            "82/82 [==============================] - 7s 87ms/step - loss: 1.1532 - accuracy: 0.5161\n",
            "Epoch 35/80\n",
            "82/82 [==============================] - 7s 87ms/step - loss: 0.9952 - accuracy: 0.5697\n",
            "Epoch 36/80\n",
            "82/82 [==============================] - 7s 87ms/step - loss: 0.8546 - accuracy: 0.6293\n",
            "Epoch 37/80\n",
            "82/82 [==============================] - 7s 88ms/step - loss: 0.8480 - accuracy: 0.6242\n",
            "Epoch 38/80\n",
            "82/82 [==============================] - 7s 87ms/step - loss: 0.8920 - accuracy: 0.6178\n",
            "Epoch 39/80\n",
            "82/82 [==============================] - 7s 87ms/step - loss: 0.8437 - accuracy: 0.6347\n",
            "Epoch 40/80\n",
            "82/82 [==============================] - 7s 87ms/step - loss: 0.8121 - accuracy: 0.6424\n",
            "Epoch 41/80\n",
            "82/82 [==============================] - 7s 87ms/step - loss: 0.7898 - accuracy: 0.6515\n",
            "Epoch 42/80\n",
            "82/82 [==============================] - 7s 86ms/step - loss: 0.8494 - accuracy: 0.6293\n",
            "Epoch 43/80\n",
            "82/82 [==============================] - 7s 87ms/step - loss: 0.8456 - accuracy: 0.6155\n",
            "Epoch 44/80\n",
            "82/82 [==============================] - 7s 87ms/step - loss: 0.7599 - accuracy: 0.6662\n",
            "Epoch 45/80\n",
            "82/82 [==============================] - 7s 87ms/step - loss: 0.8226 - accuracy: 0.6224\n",
            "Epoch 46/80\n",
            "82/82 [==============================] - 7s 88ms/step - loss: 0.7377 - accuracy: 0.6803\n",
            "Epoch 47/80\n",
            "82/82 [==============================] - 7s 89ms/step - loss: 0.8341 - accuracy: 0.6440\n",
            "Epoch 48/80\n",
            "82/82 [==============================] - 7s 88ms/step - loss: 0.7924 - accuracy: 0.6788\n",
            "Epoch 49/80\n",
            "82/82 [==============================] - 7s 88ms/step - loss: 0.7550 - accuracy: 0.6723\n",
            "Epoch 50/80\n",
            "82/82 [==============================] - 7s 87ms/step - loss: 0.7140 - accuracy: 0.7056\n",
            "Epoch 51/80\n",
            "82/82 [==============================] - 7s 87ms/step - loss: 0.7199 - accuracy: 0.6872\n",
            "Epoch 52/80\n",
            "82/82 [==============================] - 7s 87ms/step - loss: 0.7299 - accuracy: 0.6912\n",
            "Epoch 53/80\n",
            "82/82 [==============================] - 7s 87ms/step - loss: 0.6307 - accuracy: 0.7506\n",
            "Epoch 54/80\n",
            "82/82 [==============================] - 7s 87ms/step - loss: 0.7053 - accuracy: 0.7257\n",
            "Epoch 55/80\n",
            "82/82 [==============================] - 7s 87ms/step - loss: 0.6084 - accuracy: 0.7627\n",
            "Epoch 56/80\n",
            "82/82 [==============================] - 7s 87ms/step - loss: 0.6510 - accuracy: 0.7372\n",
            "Epoch 57/80\n",
            "82/82 [==============================] - 7s 87ms/step - loss: 0.6628 - accuracy: 0.7307\n",
            "Epoch 58/80\n",
            "82/82 [==============================] - 7s 86ms/step - loss: 0.6549 - accuracy: 0.7468\n",
            "Epoch 59/80\n",
            "82/82 [==============================] - 7s 86ms/step - loss: 0.7432 - accuracy: 0.7110\n",
            "Epoch 60/80\n",
            "82/82 [==============================] - 7s 87ms/step - loss: 0.6245 - accuracy: 0.7432\n",
            "Epoch 61/80\n",
            "82/82 [==============================] - 7s 87ms/step - loss: 0.6522 - accuracy: 0.7268\n",
            "Epoch 62/80\n",
            "82/82 [==============================] - 7s 87ms/step - loss: 0.6692 - accuracy: 0.7415\n",
            "Epoch 63/80\n",
            "82/82 [==============================] - 7s 87ms/step - loss: 0.6830 - accuracy: 0.7416\n",
            "Epoch 64/80\n",
            "82/82 [==============================] - 7s 88ms/step - loss: 0.5411 - accuracy: 0.8017\n",
            "Epoch 65/80\n",
            "82/82 [==============================] - 7s 87ms/step - loss: 0.5935 - accuracy: 0.7707\n",
            "Epoch 66/80\n",
            "82/82 [==============================] - 7s 88ms/step - loss: 0.6838 - accuracy: 0.7404\n",
            "Epoch 67/80\n",
            "82/82 [==============================] - 7s 87ms/step - loss: 0.4997 - accuracy: 0.7969\n",
            "Epoch 68/80\n",
            "82/82 [==============================] - 7s 88ms/step - loss: 0.4712 - accuracy: 0.8146\n",
            "Epoch 69/80\n",
            "82/82 [==============================] - 7s 87ms/step - loss: 0.5915 - accuracy: 0.7657\n",
            "Epoch 70/80\n",
            "82/82 [==============================] - 7s 87ms/step - loss: 0.4961 - accuracy: 0.8127\n",
            "Epoch 71/80\n",
            "82/82 [==============================] - 7s 87ms/step - loss: 0.4177 - accuracy: 0.8538\n",
            "Epoch 72/80\n",
            "82/82 [==============================] - 7s 88ms/step - loss: 0.6051 - accuracy: 0.7591\n",
            "Epoch 73/80\n",
            "82/82 [==============================] - 7s 87ms/step - loss: 0.4922 - accuracy: 0.8159\n",
            "Epoch 74/80\n",
            "82/82 [==============================] - 7s 87ms/step - loss: 0.4512 - accuracy: 0.8238\n",
            "Epoch 75/80\n",
            "82/82 [==============================] - 7s 87ms/step - loss: 0.5266 - accuracy: 0.7912\n",
            "Epoch 76/80\n",
            "82/82 [==============================] - 7s 86ms/step - loss: 0.4425 - accuracy: 0.8289\n",
            "Epoch 77/80\n",
            "82/82 [==============================] - 7s 88ms/step - loss: 0.4083 - accuracy: 0.8400\n",
            "Epoch 78/80\n",
            "82/82 [==============================] - 7s 87ms/step - loss: 0.4249 - accuracy: 0.8438\n",
            "Epoch 79/80\n",
            "82/82 [==============================] - 7s 87ms/step - loss: 0.4355 - accuracy: 0.8223\n",
            "Epoch 80/80\n",
            "82/82 [==============================] - 7s 87ms/step - loss: 0.7013 - accuracy: 0.7481\n"
          ],
          "name": "stdout"
        },
        {
          "output_type": "execute_result",
          "data": {
            "text/plain": [
              "<tensorflow.python.keras.callbacks.History at 0x7fd1122e00d0>"
            ]
          },
          "metadata": {
            "tags": []
          },
          "execution_count": 109
        }
      ]
    },
    {
      "cell_type": "code",
      "metadata": {
        "id": "5QoinyKBJ0BZ",
        "colab": {
          "base_uri": "https://localhost:8080/"
        },
        "outputId": "a652cf7f-c86e-4d0e-8fec-bf151fe3419e"
      },
      "source": [
        "model.evaluate(test_images, test_labels)"
      ],
      "execution_count": 110,
      "outputs": [
        {
          "output_type": "stream",
          "text": [
            "55/55 [==============================] - 1s 23ms/step - loss: 2.1600 - accuracy: 0.4751\n"
          ],
          "name": "stdout"
        },
        {
          "output_type": "execute_result",
          "data": {
            "text/plain": [
              "[2.159980058670044, 0.47514450550079346]"
            ]
          },
          "metadata": {
            "tags": []
          },
          "execution_count": 110
        }
      ]
    },
    {
      "cell_type": "code",
      "metadata": {
        "id": "C_NDG2Vi51i-"
      },
      "source": [
        ""
      ],
      "execution_count": null,
      "outputs": []
    }
  ]
}